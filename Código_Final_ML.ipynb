{
 "cells": [
  {
   "cell_type": "markdown",
   "metadata": {
    "id": "XxkWMu3NJ-zr"
   },
   "source": [
    "#Carga de datos y preprocesamiento de datos"
   ]
  },
  {
   "cell_type": "markdown",
   "metadata": {
    "id": "9Gtv1mH0KJp6"
   },
   "source": [
    "Carga de datos"
   ]
  },
  {
   "cell_type": "code",
   "execution_count": 1,
   "metadata": {
    "colab": {
     "base_uri": "https://localhost:8080/"
    },
    "id": "byHzu4mC_v5z",
    "outputId": "1c6b9d68-a190-4bcd-f1ab-5037470e3df9"
   },
   "outputs": [
    {
     "name": "stdout",
     "output_type": "stream",
     "text": [
      "Dataset\n",
      "       destination  passanger weather  temperature  time  \\\n",
      "0  No Urgent Place      Alone   Sunny           55   2PM   \n",
      "1  No Urgent Place  Friend(s)   Sunny           80  10AM   \n",
      "2  No Urgent Place  Friend(s)   Sunny           80  10AM   \n",
      "3  No Urgent Place  Friend(s)   Sunny           80   2PM   \n",
      "4  No Urgent Place  Friend(s)   Sunny           80   2PM   \n",
      "\n",
      "                  coupon expiration  gender age      maritalStatus  ...  \\\n",
      "0        Restaurant(<20)         1d  Female  21  Unmarried partner  ...   \n",
      "1           Coffee House         2h  Female  21  Unmarried partner  ...   \n",
      "2  Carry out & Take away         2h  Female  21  Unmarried partner  ...   \n",
      "3           Coffee House         2h  Female  21  Unmarried partner  ...   \n",
      "4           Coffee House         1d  Female  21  Unmarried partner  ...   \n",
      "\n",
      "   CoffeeHouse CarryAway RestaurantLessThan20 Restaurant20To50  \\\n",
      "0        never       NaN                  4~8              1~3   \n",
      "1        never       NaN                  4~8              1~3   \n",
      "2        never       NaN                  4~8              1~3   \n",
      "3        never       NaN                  4~8              1~3   \n",
      "4        never       NaN                  4~8              1~3   \n",
      "\n",
      "  toCoupon_GEQ5min toCoupon_GEQ15min toCoupon_GEQ25min direction_same  \\\n",
      "0                1                 0                 0              0   \n",
      "1                1                 0                 0              0   \n",
      "2                1                 1                 0              0   \n",
      "3                1                 1                 0              0   \n",
      "4                1                 1                 0              0   \n",
      "\n",
      "  direction_opp  Y  \n",
      "0             1  1  \n",
      "1             1  0  \n",
      "2             1  1  \n",
      "3             1  0  \n",
      "4             1  0  \n",
      "\n",
      "[5 rows x 26 columns]\n",
      "Numero de muestras: 12684\n",
      "Numero de atributos 26\n",
      "Tipos de atributos destination             object\n",
      "passanger               object\n",
      "weather                 object\n",
      "temperature              int64\n",
      "time                    object\n",
      "coupon                  object\n",
      "expiration              object\n",
      "gender                  object\n",
      "age                     object\n",
      "maritalStatus           object\n",
      "has_children             int64\n",
      "education               object\n",
      "occupation              object\n",
      "income                  object\n",
      "car                     object\n",
      "Bar                     object\n",
      "CoffeeHouse             object\n",
      "CarryAway               object\n",
      "RestaurantLessThan20    object\n",
      "Restaurant20To50        object\n",
      "toCoupon_GEQ5min         int64\n",
      "toCoupon_GEQ15min        int64\n",
      "toCoupon_GEQ25min        int64\n",
      "direction_same           int64\n",
      "direction_opp            int64\n",
      "Y                        int64\n",
      "dtype: object\n"
     ]
    }
   ],
   "source": [
    "import pandas as pd\n",
    "from typing import cast\n",
    "import seaborn as sns\n",
    "\n",
    "\n",
    "dataset_url = \"https://archive.ics.uci.edu/ml/machine-learning-databases/00603/in-vehicle-coupon-recommendation.csv\"\n",
    "\n",
    "# Cargamos el dataset\n",
    "dataset = pd.read_csv(dataset_url)\n",
    "\n",
    "print(\"Dataset\")\n",
    "print(dataset.head())\n",
    "\n",
    "# Metricas basicas del dataset\n",
    "print(\"Numero de muestras:\", dataset.shape[0])\n",
    "print(\"Numero de atributos\", dataset.shape[1])\n",
    "print(\"Tipos de atributos\", dataset.dtypes)"
   ]
  },
  {
   "cell_type": "markdown",
   "metadata": {
    "id": "ovdHBEAKKaCH"
   },
   "source": [
    "Análisis de dataset"
   ]
  },
  {
   "cell_type": "code",
   "execution_count": 2,
   "metadata": {
    "colab": {
     "base_uri": "https://localhost:8080/",
     "height": 1000
    },
    "id": "UGYBg4BjDaz_",
    "outputId": "cf903499-df75-414a-805b-d7e277daebdf"
   },
   "outputs": [
    {
     "name": "stdout",
     "output_type": "stream",
     "text": [
      "Valores faltantes\n",
      "destination              0.000000\n",
      "passanger                0.000000\n",
      "weather                  0.000000\n",
      "temperature              0.000000\n",
      "time                     0.000000\n",
      "coupon                   0.000000\n",
      "expiration               0.000000\n",
      "gender                   0.000000\n",
      "age                      0.000000\n",
      "maritalStatus            0.000000\n",
      "has_children             0.000000\n",
      "education                0.000000\n",
      "occupation               0.000000\n",
      "income                   0.000000\n",
      "car                     99.148534\n",
      "Bar                      0.843582\n",
      "CoffeeHouse              1.710817\n",
      "CarryAway                1.190476\n",
      "RestaurantLessThan20     1.024913\n",
      "Restaurant20To50         1.490066\n",
      "toCoupon_GEQ5min         0.000000\n",
      "toCoupon_GEQ15min        0.000000\n",
      "toCoupon_GEQ25min        0.000000\n",
      "direction_same           0.000000\n",
      "direction_opp            0.000000\n",
      "Y                        0.000000\n",
      "dtype: float64\n"
     ]
    },
    {
     "data": {
      "text/plain": [
       "<Axes: >"
      ]
     },
     "execution_count": 2,
     "metadata": {},
     "output_type": "execute_result"
    },
    {
     "data": {
      "image/png": "[encoded data removed]",
      "text/plain": [
       "<Figure size 640x480 with 2 Axes>"
      ]
     },
     "metadata": {},
     "output_type": "display_data"
    }
   ],
   "source": [
    "# Analisis del dataset\n",
    "\n",
    "# Calculamos el porcentaje de valores faltantes\n",
    "missing_values = 100 * dataset.isna().sum() / len(dataset)\n",
    "\n",
    "print(\"Valores faltantes\")\n",
    "print(missing_values)\n",
    "\n",
    "# Calculamos la matrix de correlacion de nuestro dataset\n",
    "sns.heatmap(dataset.corr(numeric_only=True), annot=True, cmap=\"crest\")"
   ]
  },
  {
   "cell_type": "markdown",
   "metadata": {
    "id": "fN1CbO4TKhLZ"
   },
   "source": [
    "Preprocesamiento de datos"
   ]
  },
  {
   "cell_type": "code",
   "execution_count": 3,
   "metadata": {
    "colab": {
     "base_uri": "https://localhost:8080/"
    },
    "id": "qQXLQAx0DeQC",
    "outputId": "88d2a221-aa30-4641-b33b-be13a46a6277"
   },
   "outputs": [
    {
     "name": "stdout",
     "output_type": "stream",
     "text": [
      "Existen valores faltantes? False\n"
     ]
    }
   ],
   "source": [
    "# Preprocesamiento\n",
    "\n",
    "# Eliminamos muestras duplicadas\n",
    "dataset.drop_duplicates(inplace=True)\n",
    "\n",
    "# Eliminamos los atributos 'car', 'direction_opp' y 'toCoupon_GEQ5min'\n",
    "dataset.drop(columns=[\"car\", \"direction_opp\",\n",
    "             \"toCoupon_GEQ5min\"], inplace=True)\n",
    "\n",
    "# Completamos los valores faltantes usando la moda de cada atributo\n",
    "missing_values = cast(pd.Series, dataset.isna().sum())\n",
    "missing_values = cast(pd.Series, missing_values[missing_values > 0])\n",
    "\n",
    "for column in missing_values.to_dict():\n",
    "    mode = dataset[column].value_counts().index[0]\n",
    "    dataset[column].fillna(mode, inplace=True)\n",
    "\n",
    "print(\"Existen valores faltantes?\", dataset.isna().values.any())"
   ]
  },
  {
   "cell_type": "code",
   "execution_count": 4,
   "metadata": {
    "colab": {
     "base_uri": "https://localhost:8080/",
     "height": 473
    },
    "id": "RseiwClX4_KX",
    "outputId": "0fad46c6-861b-42b1-b6f3-872f08ac9aee"
   },
   "outputs": [
    {
     "data": {
      "text/html": [
       "<div>\n",
       "<style scoped>\n",
       "    .dataframe tbody tr th:only-of-type {\n",
       "        vertical-align: middle;\n",
       "    }\n",
       "\n",
       "    .dataframe tbody tr th {\n",
       "        vertical-align: top;\n",
       "    }\n",
       "\n",
       "    .dataframe thead th {\n",
       "        text-align: right;\n",
       "    }\n",
       "</style>\n",
       "<table border=\"1\" class=\"dataframe\">\n",
       "  <thead>\n",
       "    <tr style=\"text-align: right;\">\n",
       "      <th></th>\n",
       "      <th>destination</th>\n",
       "      <th>passanger</th>\n",
       "      <th>weather</th>\n",
       "      <th>temperature</th>\n",
       "      <th>time</th>\n",
       "      <th>coupon</th>\n",
       "      <th>expiration</th>\n",
       "      <th>gender</th>\n",
       "      <th>age</th>\n",
       "      <th>maritalStatus</th>\n",
       "      <th>...</th>\n",
       "      <th>income</th>\n",
       "      <th>Bar</th>\n",
       "      <th>CoffeeHouse</th>\n",
       "      <th>CarryAway</th>\n",
       "      <th>RestaurantLessThan20</th>\n",
       "      <th>Restaurant20To50</th>\n",
       "      <th>toCoupon_GEQ15min</th>\n",
       "      <th>toCoupon_GEQ25min</th>\n",
       "      <th>direction_same</th>\n",
       "      <th>Y</th>\n",
       "    </tr>\n",
       "  </thead>\n",
       "  <tbody>\n",
       "    <tr>\n",
       "      <th>0</th>\n",
       "      <td>No Urgent Place</td>\n",
       "      <td>Alone</td>\n",
       "      <td>Sunny</td>\n",
       "      <td>55</td>\n",
       "      <td>2PM</td>\n",
       "      <td>Restaurant(&lt;20)</td>\n",
       "      <td>1d</td>\n",
       "      <td>Female</td>\n",
       "      <td>21</td>\n",
       "      <td>Unmarried partner</td>\n",
       "      <td>...</td>\n",
       "      <td>$37500 - $49999</td>\n",
       "      <td>never</td>\n",
       "      <td>never</td>\n",
       "      <td>1~3</td>\n",
       "      <td>4~8</td>\n",
       "      <td>1~3</td>\n",
       "      <td>0</td>\n",
       "      <td>0</td>\n",
       "      <td>0</td>\n",
       "      <td>1</td>\n",
       "    </tr>\n",
       "    <tr>\n",
       "      <th>1</th>\n",
       "      <td>No Urgent Place</td>\n",
       "      <td>Friend(s)</td>\n",
       "      <td>Sunny</td>\n",
       "      <td>80</td>\n",
       "      <td>10AM</td>\n",
       "      <td>Coffee House</td>\n",
       "      <td>2h</td>\n",
       "      <td>Female</td>\n",
       "      <td>21</td>\n",
       "      <td>Unmarried partner</td>\n",
       "      <td>...</td>\n",
       "      <td>$37500 - $49999</td>\n",
       "      <td>never</td>\n",
       "      <td>never</td>\n",
       "      <td>1~3</td>\n",
       "      <td>4~8</td>\n",
       "      <td>1~3</td>\n",
       "      <td>0</td>\n",
       "      <td>0</td>\n",
       "      <td>0</td>\n",
       "      <td>0</td>\n",
       "    </tr>\n",
       "    <tr>\n",
       "      <th>2</th>\n",
       "      <td>No Urgent Place</td>\n",
       "      <td>Friend(s)</td>\n",
       "      <td>Sunny</td>\n",
       "      <td>80</td>\n",
       "      <td>10AM</td>\n",
       "      <td>Carry out &amp; Take away</td>\n",
       "      <td>2h</td>\n",
       "      <td>Female</td>\n",
       "      <td>21</td>\n",
       "      <td>Unmarried partner</td>\n",
       "      <td>...</td>\n",
       "      <td>$37500 - $49999</td>\n",
       "      <td>never</td>\n",
       "      <td>never</td>\n",
       "      <td>1~3</td>\n",
       "      <td>4~8</td>\n",
       "      <td>1~3</td>\n",
       "      <td>1</td>\n",
       "      <td>0</td>\n",
       "      <td>0</td>\n",
       "      <td>1</td>\n",
       "    </tr>\n",
       "    <tr>\n",
       "      <th>3</th>\n",
       "      <td>No Urgent Place</td>\n",
       "      <td>Friend(s)</td>\n",
       "      <td>Sunny</td>\n",
       "      <td>80</td>\n",
       "      <td>2PM</td>\n",
       "      <td>Coffee House</td>\n",
       "      <td>2h</td>\n",
       "      <td>Female</td>\n",
       "      <td>21</td>\n",
       "      <td>Unmarried partner</td>\n",
       "      <td>...</td>\n",
       "      <td>$37500 - $49999</td>\n",
       "      <td>never</td>\n",
       "      <td>never</td>\n",
       "      <td>1~3</td>\n",
       "      <td>4~8</td>\n",
       "      <td>1~3</td>\n",
       "      <td>1</td>\n",
       "      <td>0</td>\n",
       "      <td>0</td>\n",
       "      <td>0</td>\n",
       "    </tr>\n",
       "    <tr>\n",
       "      <th>4</th>\n",
       "      <td>No Urgent Place</td>\n",
       "      <td>Friend(s)</td>\n",
       "      <td>Sunny</td>\n",
       "      <td>80</td>\n",
       "      <td>2PM</td>\n",
       "      <td>Coffee House</td>\n",
       "      <td>1d</td>\n",
       "      <td>Female</td>\n",
       "      <td>21</td>\n",
       "      <td>Unmarried partner</td>\n",
       "      <td>...</td>\n",
       "      <td>$37500 - $49999</td>\n",
       "      <td>never</td>\n",
       "      <td>never</td>\n",
       "      <td>1~3</td>\n",
       "      <td>4~8</td>\n",
       "      <td>1~3</td>\n",
       "      <td>1</td>\n",
       "      <td>0</td>\n",
       "      <td>0</td>\n",
       "      <td>0</td>\n",
       "    </tr>\n",
       "  </tbody>\n",
       "</table>\n",
       "<p>5 rows × 23 columns</p>\n",
       "</div>"
      ],
      "text/plain": [
       "       destination  passanger weather  temperature  time  \\\n",
       "0  No Urgent Place      Alone   Sunny           55   2PM   \n",
       "1  No Urgent Place  Friend(s)   Sunny           80  10AM   \n",
       "2  No Urgent Place  Friend(s)   Sunny           80  10AM   \n",
       "3  No Urgent Place  Friend(s)   Sunny           80   2PM   \n",
       "4  No Urgent Place  Friend(s)   Sunny           80   2PM   \n",
       "\n",
       "                  coupon expiration  gender age      maritalStatus  ...  \\\n",
       "0        Restaurant(<20)         1d  Female  21  Unmarried partner  ...   \n",
       "1           Coffee House         2h  Female  21  Unmarried partner  ...   \n",
       "2  Carry out & Take away         2h  Female  21  Unmarried partner  ...   \n",
       "3           Coffee House         2h  Female  21  Unmarried partner  ...   \n",
       "4           Coffee House         1d  Female  21  Unmarried partner  ...   \n",
       "\n",
       "            income    Bar CoffeeHouse CarryAway RestaurantLessThan20  \\\n",
       "0  $37500 - $49999  never       never       1~3                  4~8   \n",
       "1  $37500 - $49999  never       never       1~3                  4~8   \n",
       "2  $37500 - $49999  never       never       1~3                  4~8   \n",
       "3  $37500 - $49999  never       never       1~3                  4~8   \n",
       "4  $37500 - $49999  never       never       1~3                  4~8   \n",
       "\n",
       "  Restaurant20To50 toCoupon_GEQ15min toCoupon_GEQ25min direction_same  Y  \n",
       "0              1~3                 0                 0              0  1  \n",
       "1              1~3                 0                 0              0  0  \n",
       "2              1~3                 1                 0              0  1  \n",
       "3              1~3                 1                 0              0  0  \n",
       "4              1~3                 1                 0              0  0  \n",
       "\n",
       "[5 rows x 23 columns]"
      ]
     },
     "execution_count": 4,
     "metadata": {},
     "output_type": "execute_result"
    }
   ],
   "source": [
    "#Tabla de informacion inicial\n",
    "dataset.head()"
   ]
  },
  {
   "cell_type": "markdown",
   "metadata": {
    "id": "b6yWQXEJ5jnq"
   },
   "source": [
    "### Ingenieria de atributos"
   ]
  },
  {
   "cell_type": "code",
   "execution_count": 5,
   "metadata": {
    "id": "hn2FqIO65gYH"
   },
   "outputs": [],
   "source": [
    "dataset[\"is_unemployed\"] = dataset[\"occupation\"].map(\n",
    "    lambda o: 1 if o == \"Unemployed\" else 0)\n",
    "\n",
    "dataset[\"is_student\"] = dataset[\"occupation\"].map(\n",
    "    lambda o: 1 if o == \"Student\" else 0)\n",
    "\n",
    "dataset.drop(columns=[\"occupation\"], inplace=True)"
   ]
  },
  {
   "cell_type": "markdown",
   "metadata": {
    "id": "gGDCWwSfKkxm"
   },
   "source": [
    "### Encodificación: One hot encoding"
   ]
  },
  {
   "cell_type": "code",
   "execution_count": 6,
   "metadata": {
    "colab": {
     "base_uri": "https://localhost:8080/"
    },
    "id": "9q-rdf35DhQf",
    "outputId": "38840330-3832-4ba9-9a2f-8b1ffa6f9982"
   },
   "outputs": [
    {
     "name": "stdout",
     "output_type": "stream",
     "text": [
      "encoding destination\n",
      "encoding passanger\n",
      "encoding weather\n",
      "encoding time\n",
      "encoding coupon\n",
      "encoding expiration\n",
      "encoding gender\n",
      "encoding age\n",
      "encoding maritalStatus\n",
      "encoding education\n",
      "encoding income\n",
      "encoding Bar\n",
      "encoding CoffeeHouse\n",
      "encoding CarryAway\n",
      "encoding RestaurantLessThan20\n",
      "encoding Restaurant20To50\n"
     ]
    }
   ],
   "source": [
    "categorical_columns = dataset.dtypes[dataset.dtypes ==\n",
    "                                     \"object\"].index.to_list()\n",
    "for column in categorical_columns:\n",
    "    encoded = pd.get_dummies(dataset[column], prefix=column, dtype=int)\n",
    "\n",
    "    print(\"encoding\", column)\n",
    "    # XGBoost necesita que los atributos no contengan los caracteres '[', ']' o '<'\n",
    "    if \"coupon_Restaurant(<20)\" in encoded.columns:\n",
    "       encoded.rename(\n",
    "            {\"coupon_Restaurant(<20)\": \"coupon_Restaurant(LessThan20)\"}, axis=1, inplace=True)\n",
    "\n",
    "    dataset.drop(columns=[column], inplace=True)\n",
    "    dataset = dataset.join(encoded)\n",
    "\n",
    "# Guardamos el dataset preprocesado\n",
    "#dataset.to_csv(\"in-vehicle-coupon-recommendation-processed.csv\", index=False)"
   ]
  },
  {
   "cell_type": "code",
   "execution_count": 7,
   "metadata": {
    "colab": {
     "base_uri": "https://localhost:8080/",
     "height": 317
    },
    "id": "QYlkf6JI6bJR",
    "outputId": "5b7910bd-9c4a-43e7-cb7d-c61f7b1193e4"
   },
   "outputs": [
    {
     "data": {
      "text/html": [
       "<div>\n",
       "<style scoped>\n",
       "    .dataframe tbody tr th:only-of-type {\n",
       "        vertical-align: middle;\n",
       "    }\n",
       "\n",
       "    .dataframe tbody tr th {\n",
       "        vertical-align: top;\n",
       "    }\n",
       "\n",
       "    .dataframe thead th {\n",
       "        text-align: right;\n",
       "    }\n",
       "</style>\n",
       "<table border=\"1\" class=\"dataframe\">\n",
       "  <thead>\n",
       "    <tr style=\"text-align: right;\">\n",
       "      <th></th>\n",
       "      <th>temperature</th>\n",
       "      <th>has_children</th>\n",
       "      <th>toCoupon_GEQ15min</th>\n",
       "      <th>toCoupon_GEQ25min</th>\n",
       "      <th>direction_same</th>\n",
       "      <th>Y</th>\n",
       "      <th>is_unemployed</th>\n",
       "      <th>is_student</th>\n",
       "      <th>destination_Home</th>\n",
       "      <th>destination_No Urgent Place</th>\n",
       "      <th>...</th>\n",
       "      <th>RestaurantLessThan20_1~3</th>\n",
       "      <th>RestaurantLessThan20_4~8</th>\n",
       "      <th>RestaurantLessThan20_gt8</th>\n",
       "      <th>RestaurantLessThan20_less1</th>\n",
       "      <th>RestaurantLessThan20_never</th>\n",
       "      <th>Restaurant20To50_1~3</th>\n",
       "      <th>Restaurant20To50_4~8</th>\n",
       "      <th>Restaurant20To50_gt8</th>\n",
       "      <th>Restaurant20To50_less1</th>\n",
       "      <th>Restaurant20To50_never</th>\n",
       "    </tr>\n",
       "  </thead>\n",
       "  <tbody>\n",
       "    <tr>\n",
       "      <th>0</th>\n",
       "      <td>55</td>\n",
       "      <td>1</td>\n",
       "      <td>0</td>\n",
       "      <td>0</td>\n",
       "      <td>0</td>\n",
       "      <td>1</td>\n",
       "      <td>1</td>\n",
       "      <td>0</td>\n",
       "      <td>0</td>\n",
       "      <td>1</td>\n",
       "      <td>...</td>\n",
       "      <td>0</td>\n",
       "      <td>1</td>\n",
       "      <td>0</td>\n",
       "      <td>0</td>\n",
       "      <td>0</td>\n",
       "      <td>1</td>\n",
       "      <td>0</td>\n",
       "      <td>0</td>\n",
       "      <td>0</td>\n",
       "      <td>0</td>\n",
       "    </tr>\n",
       "    <tr>\n",
       "      <th>1</th>\n",
       "      <td>80</td>\n",
       "      <td>1</td>\n",
       "      <td>0</td>\n",
       "      <td>0</td>\n",
       "      <td>0</td>\n",
       "      <td>0</td>\n",
       "      <td>1</td>\n",
       "      <td>0</td>\n",
       "      <td>0</td>\n",
       "      <td>1</td>\n",
       "      <td>...</td>\n",
       "      <td>0</td>\n",
       "      <td>1</td>\n",
       "      <td>0</td>\n",
       "      <td>0</td>\n",
       "      <td>0</td>\n",
       "      <td>1</td>\n",
       "      <td>0</td>\n",
       "      <td>0</td>\n",
       "      <td>0</td>\n",
       "      <td>0</td>\n",
       "    </tr>\n",
       "    <tr>\n",
       "      <th>2</th>\n",
       "      <td>80</td>\n",
       "      <td>1</td>\n",
       "      <td>1</td>\n",
       "      <td>0</td>\n",
       "      <td>0</td>\n",
       "      <td>1</td>\n",
       "      <td>1</td>\n",
       "      <td>0</td>\n",
       "      <td>0</td>\n",
       "      <td>1</td>\n",
       "      <td>...</td>\n",
       "      <td>0</td>\n",
       "      <td>1</td>\n",
       "      <td>0</td>\n",
       "      <td>0</td>\n",
       "      <td>0</td>\n",
       "      <td>1</td>\n",
       "      <td>0</td>\n",
       "      <td>0</td>\n",
       "      <td>0</td>\n",
       "      <td>0</td>\n",
       "    </tr>\n",
       "    <tr>\n",
       "      <th>3</th>\n",
       "      <td>80</td>\n",
       "      <td>1</td>\n",
       "      <td>1</td>\n",
       "      <td>0</td>\n",
       "      <td>0</td>\n",
       "      <td>0</td>\n",
       "      <td>1</td>\n",
       "      <td>0</td>\n",
       "      <td>0</td>\n",
       "      <td>1</td>\n",
       "      <td>...</td>\n",
       "      <td>0</td>\n",
       "      <td>1</td>\n",
       "      <td>0</td>\n",
       "      <td>0</td>\n",
       "      <td>0</td>\n",
       "      <td>1</td>\n",
       "      <td>0</td>\n",
       "      <td>0</td>\n",
       "      <td>0</td>\n",
       "      <td>0</td>\n",
       "    </tr>\n",
       "    <tr>\n",
       "      <th>4</th>\n",
       "      <td>80</td>\n",
       "      <td>1</td>\n",
       "      <td>1</td>\n",
       "      <td>0</td>\n",
       "      <td>0</td>\n",
       "      <td>0</td>\n",
       "      <td>1</td>\n",
       "      <td>0</td>\n",
       "      <td>0</td>\n",
       "      <td>1</td>\n",
       "      <td>...</td>\n",
       "      <td>0</td>\n",
       "      <td>1</td>\n",
       "      <td>0</td>\n",
       "      <td>0</td>\n",
       "      <td>0</td>\n",
       "      <td>1</td>\n",
       "      <td>0</td>\n",
       "      <td>0</td>\n",
       "      <td>0</td>\n",
       "      <td>0</td>\n",
       "    </tr>\n",
       "  </tbody>\n",
       "</table>\n",
       "<p>5 rows × 85 columns</p>\n",
       "</div>"
      ],
      "text/plain": [
       "   temperature  has_children  toCoupon_GEQ15min  toCoupon_GEQ25min  \\\n",
       "0           55             1                  0                  0   \n",
       "1           80             1                  0                  0   \n",
       "2           80             1                  1                  0   \n",
       "3           80             1                  1                  0   \n",
       "4           80             1                  1                  0   \n",
       "\n",
       "   direction_same  Y  is_unemployed  is_student  destination_Home  \\\n",
       "0               0  1              1           0                 0   \n",
       "1               0  0              1           0                 0   \n",
       "2               0  1              1           0                 0   \n",
       "3               0  0              1           0                 0   \n",
       "4               0  0              1           0                 0   \n",
       "\n",
       "   destination_No Urgent Place  ...  RestaurantLessThan20_1~3  \\\n",
       "0                            1  ...                         0   \n",
       "1                            1  ...                         0   \n",
       "2                            1  ...                         0   \n",
       "3                            1  ...                         0   \n",
       "4                            1  ...                         0   \n",
       "\n",
       "   RestaurantLessThan20_4~8  RestaurantLessThan20_gt8  \\\n",
       "0                         1                         0   \n",
       "1                         1                         0   \n",
       "2                         1                         0   \n",
       "3                         1                         0   \n",
       "4                         1                         0   \n",
       "\n",
       "   RestaurantLessThan20_less1  RestaurantLessThan20_never  \\\n",
       "0                           0                           0   \n",
       "1                           0                           0   \n",
       "2                           0                           0   \n",
       "3                           0                           0   \n",
       "4                           0                           0   \n",
       "\n",
       "   Restaurant20To50_1~3  Restaurant20To50_4~8  Restaurant20To50_gt8  \\\n",
       "0                     1                     0                     0   \n",
       "1                     1                     0                     0   \n",
       "2                     1                     0                     0   \n",
       "3                     1                     0                     0   \n",
       "4                     1                     0                     0   \n",
       "\n",
       "   Restaurant20To50_less1  Restaurant20To50_never  \n",
       "0                       0                       0  \n",
       "1                       0                       0  \n",
       "2                       0                       0  \n",
       "3                       0                       0  \n",
       "4                       0                       0  \n",
       "\n",
       "[5 rows x 85 columns]"
      ]
     },
     "execution_count": 7,
     "metadata": {},
     "output_type": "execute_result"
    }
   ],
   "source": [
    "#Tabla de informacion final\n",
    "dataset.head()"
   ]
  },
  {
   "cell_type": "markdown",
   "metadata": {
    "id": "Fbl_Ia2iRzYM"
   },
   "source": [
    "### División del Dataset"
   ]
  },
  {
   "cell_type": "code",
   "execution_count": 8,
   "metadata": {
    "id": "tCWG2yGJSx7t"
   },
   "outputs": [],
   "source": [
    "#Separamos la data, en variables independientes (x) y dependientes (y), para poder entrenar un árbol de clasificación\n",
    "x = dataset.drop([\"Y\"], axis=1)\n",
    "\n",
    "y = dataset[\"Y\"]"
   ]
  },
  {
   "cell_type": "code",
   "execution_count": 9,
   "metadata": {
    "id": "zw6moKhFR17i"
   },
   "outputs": [],
   "source": [
    "#Mediante el método \"train_test_split\" usaremos el 20% de la data para probar el modelo. El parámetro \"random state\" nos sirve para\n",
    "#poder replicar la misma separación\n",
    "from sklearn.model_selection import train_test_split\n",
    "\n",
    "x_train, x_test, y_train, y_test = train_test_split(x,y,test_size=0.3, random_state=42)"
   ]
  },
  {
   "cell_type": "markdown",
   "metadata": {
    "id": "HkTASPz0NTTf"
   },
   "source": [
    "### Entrenamiento de Modelos"
   ]
  },
  {
   "cell_type": "markdown",
   "metadata": {
    "id": "EFm2S1YceJa2"
   },
   "source": [
    "Librerías necesarias\n"
   ]
  },
  {
   "cell_type": "code",
   "execution_count": 10,
   "metadata": {
    "id": "yuN4wi_fenGV"
   },
   "outputs": [],
   "source": [
    "from sklearn.model_selection import train_test_split\n",
    "from sklearn.feature_extraction.text import CountVectorizer\n",
    "from sklearn.preprocessing import Normalizer\n",
    "from sklearn.preprocessing import OrdinalEncoder\n",
    "from sklearn.metrics import accuracy_score, roc_curve, roc_auc_score, confusion_matrix, ConfusionMatrixDisplay, classification_report\n",
    "from sklearn.metrics import accuracy_score,confusion_matrix\n",
    "from sklearn.metrics import log_loss,roc_auc_score\n",
    "\n",
    "from sklearn.linear_model import LogisticRegression\n",
    "from sklearn.neighbors import KNeighborsClassifier\n",
    "from sklearn.tree import DecisionTreeClassifier\n",
    "from sklearn.neural_network import MLPClassifier\n",
    "from sklearn.svm import SVC\n",
    "from sklearn.naive_bayes import GaussianNB\n",
    "from sklearn.naive_bayes import CategoricalNB\n",
    "from sklearn.naive_bayes import MultinomialNB\n",
    "from sklearn.ensemble import RandomForestClassifier\n",
    "from sklearn.ensemble import StackingClassifier\n",
    "import xgboost as xgb\n",
    "\n",
    "from sklearn.calibration import CalibratedClassifierCV\n",
    "import matplotlib.pyplot as plt\n",
    "from sklearn.model_selection import RandomizedSearchCV\n",
    "from sklearn.model_selection import GridSearchCV\n",
    "\n",
    "def plot_roc_curve(model, x_test, y_test):\n",
    "  y_pred_proba = model.predict_proba(x_test)[::,1]\n",
    "  fpr, tpr, th = roc_curve(y_test,  y_pred_proba)\n",
    "  auc = roc_auc_score(y_test, y_pred_proba)\n",
    "  model_name = type(model).__name__\n",
    "  plt.title(f\"{model_name}'s ROC Curve\")\n",
    "  plt.plot(fpr,tpr,label=\"auc=\"+str(auc))\n",
    "  plt.xlabel(\"FPR\")\n",
    "  plt.ylabel(\"TPR\")\n",
    "  plt.legend(loc=4)\n",
    "  plt.show()"
   ]
  },
  {
   "cell_type": "markdown",
   "metadata": {
    "id": "UYvUALu_RYut"
   },
   "source": [
    "## Regresion Logistica"
   ]
  },
  {
   "cell_type": "code",
   "execution_count": 11,
   "metadata": {
    "id": "maoYkfA_Lxkl"
   },
   "outputs": [],
   "source": [
    "# Crear el clasificador de regresión logistica\n",
    "lr_model = LogisticRegression()"
   ]
  },
  {
   "cell_type": "code",
   "execution_count": 12,
   "metadata": {
    "id": "07CcgWLHL_K8"
   },
   "outputs": [],
   "source": [
    "# Definir los hiperparámetros a buscar en la búsqueda aleatoria\n",
    "lr_parameters = {\n",
    "    \"C\":[0.01, 0.1, 1, 10, 100, 500],\n",
    "    \"max_iter\": [500, 1000]\n",
    "}"
   ]
  },
  {
   "cell_type": "code",
   "execution_count": 13,
   "metadata": {
    "id": "QbkZTZDwMGOn"
   },
   "outputs": [
    {
     "name": "stdout",
     "output_type": "stream",
     "text": [
      "Fitting 5 folds for each of 10 candidates, totalling 50 fits\n"
     ]
    },
    {
     "data": {
      "text/html": [
       "<style>#sk-container-id-1 {color: black;background-color: white;}#sk-container-id-1 pre{padding: 0;}#sk-container-id-1 div.sk-toggleable {background-color: white;}#sk-container-id-1 label.sk-toggleable__label {cursor: pointer;display: block;width: 100%;margin-bottom: 0;padding: 0.3em;box-sizing: border-box;text-align: center;}#sk-container-id-1 label.sk-toggleable__label-arrow:before {content: \"▸\";float: left;margin-right: 0.25em;color: #696969;}#sk-container-id-1 label.sk-toggleable__label-arrow:hover:before {color: black;}#sk-container-id-1 div.sk-estimator:hover label.sk-toggleable__label-arrow:before {color: black;}#sk-container-id-1 div.sk-toggleable__content {max-height: 0;max-width: 0;overflow: hidden;text-align: left;background-color: #f0f8ff;}#sk-container-id-1 div.sk-toggleable__content pre {margin: 0.2em;color: black;border-radius: 0.25em;background-color: #f0f8ff;}#sk-container-id-1 input.sk-toggleable__control:checked~div.sk-toggleable__content {max-height: 200px;max-width: 100%;overflow: auto;}#sk-container-id-1 input.sk-toggleable__control:checked~label.sk-toggleable__label-arrow:before {content: \"▾\";}#sk-container-id-1 div.sk-estimator input.sk-toggleable__control:checked~label.sk-toggleable__label {background-color: #d4ebff;}#sk-container-id-1 div.sk-label input.sk-toggleable__control:checked~label.sk-toggleable__label {background-color: #d4ebff;}#sk-container-id-1 input.sk-hidden--visually {border: 0;clip: rect(1px 1px 1px 1px);clip: rect(1px, 1px, 1px, 1px);height: 1px;margin: -1px;overflow: hidden;padding: 0;position: absolute;width: 1px;}#sk-container-id-1 div.sk-estimator {font-family: monospace;background-color: #f0f8ff;border: 1px dotted black;border-radius: 0.25em;box-sizing: border-box;margin-bottom: 0.5em;}#sk-container-id-1 div.sk-estimator:hover {background-color: #d4ebff;}#sk-container-id-1 div.sk-parallel-item::after {content: \"\";width: 100%;border-bottom: 1px solid gray;flex-grow: 1;}#sk-container-id-1 div.sk-label:hover label.sk-toggleable__label {background-color: #d4ebff;}#sk-container-id-1 div.sk-serial::before {content: \"\";position: absolute;border-left: 1px solid gray;box-sizing: border-box;top: 0;bottom: 0;left: 50%;z-index: 0;}#sk-container-id-1 div.sk-serial {display: flex;flex-direction: column;align-items: center;background-color: white;padding-right: 0.2em;padding-left: 0.2em;position: relative;}#sk-container-id-1 div.sk-item {position: relative;z-index: 1;}#sk-container-id-1 div.sk-parallel {display: flex;align-items: stretch;justify-content: center;background-color: white;position: relative;}#sk-container-id-1 div.sk-item::before, #sk-container-id-1 div.sk-parallel-item::before {content: \"\";position: absolute;border-left: 1px solid gray;box-sizing: border-box;top: 0;bottom: 0;left: 50%;z-index: -1;}#sk-container-id-1 div.sk-parallel-item {display: flex;flex-direction: column;z-index: 1;position: relative;background-color: white;}#sk-container-id-1 div.sk-parallel-item:first-child::after {align-self: flex-end;width: 50%;}#sk-container-id-1 div.sk-parallel-item:last-child::after {align-self: flex-start;width: 50%;}#sk-container-id-1 div.sk-parallel-item:only-child::after {width: 0;}#sk-container-id-1 div.sk-dashed-wrapped {border: 1px dashed gray;margin: 0 0.4em 0.5em 0.4em;box-sizing: border-box;padding-bottom: 0.4em;background-color: white;}#sk-container-id-1 div.sk-label label {font-family: monospace;font-weight: bold;display: inline-block;line-height: 1.2em;}#sk-container-id-1 div.sk-label-container {text-align: center;}#sk-container-id-1 div.sk-container {/* jupyter's `normalize.less` sets `[hidden] { display: none; }` but bootstrap.min.css set `[hidden] { display: none !important; }` so we also need the `!important` here to be able to override the default hidden behavior on the sphinx rendered scikit-learn.org. See: https://github.com/scikit-learn/scikit-learn/issues/21755 */display: inline-block !important;position: relative;}#sk-container-id-1 div.sk-text-repr-fallback {display: none;}</style><div id=\"sk-container-id-1\" class=\"sk-top-container\"><div class=\"sk-text-repr-fallback\"><pre>LogisticRegression(C=10, max_iter=1000)</pre><b>In a Jupyter environment, please rerun this cell to show the HTML representation or trust the notebook. <br />On GitHub, the HTML representation is unable to render, please try loading this page with nbviewer.org.</b></div><div class=\"sk-container\" hidden><div class=\"sk-item\"><div class=\"sk-estimator sk-toggleable\"><input class=\"sk-toggleable__control sk-hidden--visually\" id=\"sk-estimator-id-1\" type=\"checkbox\" checked><label for=\"sk-estimator-id-1\" class=\"sk-toggleable__label sk-toggleable__label-arrow\">LogisticRegression</label><div class=\"sk-toggleable__content\"><pre>LogisticRegression(C=10, max_iter=1000)</pre></div></div></div></div></div>"
      ],
      "text/plain": [
       "LogisticRegression(C=10, max_iter=1000)"
      ]
     },
     "execution_count": 13,
     "metadata": {},
     "output_type": "execute_result"
    }
   ],
   "source": [
    "# Realizar la búsqueda aleatoria de hiperparámetros\n",
    "lr_model_search = RandomizedSearchCV(\n",
    "    lr_model,\n",
    "    param_distributions=lr_parameters,\n",
    "    n_iter=10,  # Número de combinaciones de hiperparámetros a probar\n",
    "    cv=5,  # Número de divisiones para la validación cruzada\n",
    "    random_state=42,\n",
    "    n_jobs=-1,\n",
    "    verbose=2\n",
    ")\n",
    "lr_model_search.fit(x_train, y_train)\n",
    "\n",
    "# Crear un nuevo clasificador LogisticRegression con los mejores hiperparámetros\n",
    "lr_model = LogisticRegression(**lr_model_search.best_params_)\n",
    "\n",
    "# Entrenar el modelo con los datos de entrenamiento\n",
    "lr_model.fit(x_train, y_train)"
   ]
  },
  {
   "cell_type": "code",
   "execution_count": 14,
   "metadata": {
    "colab": {
     "base_uri": "https://localhost:8080/",
     "height": 472
    },
    "id": "ZWAG0qdpfYHB",
    "outputId": "c855ec3f-eb49-4054-bd77-f90089a7bbd2"
   },
   "outputs": [
    {
     "data": {
      "image/png": "[encoded data removed]",
      "text/plain": [
       "<Figure size 640x480 with 1 Axes>"
      ]
     },
     "metadata": {},
     "output_type": "display_data"
    }
   ],
   "source": [
    "# Cálculo del AUC y gráfica de la Curva ROC\n",
    "plot_roc_curve(lr_model, x_test, y_test)"
   ]
  },
  {
   "cell_type": "code",
   "execution_count": 15,
   "metadata": {
    "colab": {
     "base_uri": "https://localhost:8080/",
     "height": 472
    },
    "id": "ZWAG0qdpfYHB",
    "outputId": "c855ec3f-eb49-4054-bd77-f90089a7bbd2"
   },
   "outputs": [
    {
     "name": "stdout",
     "output_type": "stream",
     "text": [
      "              precision    recall  f1-score   support\n",
      "\n",
      "           0       0.68      0.57      0.62      1654\n",
      "           1       0.70      0.79      0.74      2129\n",
      "\n",
      "    accuracy                           0.69      3783\n",
      "   macro avg       0.69      0.68      0.68      3783\n",
      "weighted avg       0.69      0.69      0.69      3783\n",
      "\n"
     ]
    }
   ],
   "source": [
    "# Evaluar el modelo con los datos de prueba\n",
    "y_pred = lr_model.predict(x_test)\n",
    "\n",
    "# Imprimir informe de clasificación\n",
    "print(classification_report(y_test, y_pred))"
   ]
  },
  {
   "cell_type": "markdown",
   "metadata": {
    "id": "j3U9Hqt2X9dp"
   },
   "source": [
    "## Random Forest"
   ]
  },
  {
   "cell_type": "code",
   "execution_count": 16,
   "metadata": {
    "id": "4N55hsBTJUwG"
   },
   "outputs": [],
   "source": [
    "# Crear el clasificador Random Forest\n",
    "rf_model = RandomForestClassifier()"
   ]
  },
  {
   "cell_type": "code",
   "execution_count": 17,
   "metadata": {
    "colab": {
     "base_uri": "https://localhost:8080/",
     "height": 148
    },
    "id": "TRIeCnPlYBFb",
    "outputId": "b2f3a368-7125-48ea-b0d3-ae3fd555c006"
   },
   "outputs": [],
   "source": [
    "# Definir los hiperparámetros a buscar en la búsqueda aleatoria\n",
    "rf_parameters = {\n",
    "    \"n_estimators\": [500, 1000, 1500, 2000],\n",
    "    \"max_depth\": [50, 100, 150, 200, 250, 300],\n",
    "    \"max_features\": [\"sqrt\", \"log2\"]\n",
    "}"
   ]
  },
  {
   "cell_type": "code",
   "execution_count": 18,
   "metadata": {
    "id": "95y6o8m5KBMM"
   },
   "outputs": [
    {
     "name": "stdout",
     "output_type": "stream",
     "text": [
      "Fitting 5 folds for each of 10 candidates, totalling 50 fits\n",
      "[CV] END ...............................C=100, max_iter=1000; total time=   1.0s\n",
      "[CV] END .................................C=1, max_iter=1000; total time=   0.5s\n",
      "[CV] END ..............................C=0.01, max_iter=1000; total time=   0.3s\n",
      "[CV] END ..............................C=0.01, max_iter=1000; total time=   0.7s\n",
      "[CV] END ..................................C=1, max_iter=500; total time=   1.1s\n",
      "[CV] END max_depth=200, max_features=sqrt, n_estimators=1500; total time=  14.0s\n"
     ]
    },
    {
     "name": "stderr",
     "output_type": "stream",
     "text": [
      "/home/echo/dev/in-vehicle-coupon-recommendation/.venv/lib/python3.11/site-packages/joblib/externals/loky/process_executor.py:700: UserWarning: A worker stopped while some jobs were given to the executor. This can be caused by a too short worker timeout or by a memory leak.\n",
      "  warnings.warn(\n"
     ]
    },
    {
     "name": "stdout",
     "output_type": "stream",
     "text": [
      "[CV] END ................................C=500, max_iter=500; total time=   0.5s\n",
      "[CV] END ................................C=100, max_iter=500; total time=   1.7s\n",
      "[CV] END ...............................C=500, max_iter=1000; total time=   1.3s\n",
      "[CV] END ................................C=10, max_iter=1000; total time=   0.3s\n",
      "[CV] END max_depth=200, max_features=sqrt, n_estimators=1500; total time=  14.2s\n",
      "[CV] END ...............................C=100, max_iter=1000; total time=   1.0s\n",
      "[CV] END ................................C=0.1, max_iter=500; total time=   1.0s\n",
      "[CV] END ...............................C=500, max_iter=1000; total time=   1.5s\n",
      "[CV] END max_depth=200, max_features=sqrt, n_estimators=2000; total time=  18.6s\n",
      "[CV] END ...............................C=100, max_iter=1000; total time=   0.6s\n",
      "[CV] END ................................C=100, max_iter=500; total time=   0.5s\n",
      "[CV] END ................................C=0.1, max_iter=500; total time=   1.3s\n",
      "[CV] END ..................................C=1, max_iter=500; total time=   1.2s\n",
      "[CV] END .max_depth=300, max_features=sqrt, n_estimators=500; total time=   4.7s\n",
      "[CV] END max_depth=200, max_features=sqrt, n_estimators=1500; total time=  14.0s\n",
      "[CV] END ...............................C=100, max_iter=1000; total time=   0.3s\n",
      "[CV] END ................................C=100, max_iter=500; total time=   1.3s\n",
      "[CV] END ..............................C=0.01, max_iter=1000; total time=   0.4s\n",
      "[CV] END ...............................C=500, max_iter=1000; total time=   1.4s\n",
      "[CV] END max_depth=200, max_features=sqrt, n_estimators=2000; total time=  19.0s\n",
      "[CV] END ...............................C=0.01, max_iter=500; total time=   0.6s\n",
      "[CV] END .................................C=1, max_iter=1000; total time=   1.9s\n",
      "[CV] END ..................................C=1, max_iter=500; total time=   1.0s\n",
      "[CV] END .max_depth=300, max_features=sqrt, n_estimators=500; total time=   4.7s\n",
      "[CV] END max_depth=200, max_features=sqrt, n_estimators=1500; total time=  14.2s\n",
      "[CV] END ................................C=500, max_iter=500; total time=   0.3s\n",
      "[CV] END ...............................C=0.01, max_iter=500; total time=   0.2s\n",
      "[CV] END ...............................C=0.01, max_iter=500; total time=   0.3s\n",
      "[CV] END ................................C=100, max_iter=500; total time=   0.8s\n",
      "[CV] END ................................C=0.1, max_iter=500; total time=   1.0s\n",
      "[CV] END ..................................C=1, max_iter=500; total time=   1.1s\n",
      "[CV] END max_depth=200, max_features=sqrt, n_estimators=2000; total time=  19.2s\n",
      "[CV] END ...............................C=0.01, max_iter=500; total time=   0.3s\n",
      "[CV] END ................................C=100, max_iter=500; total time=   1.2s\n",
      "[CV] END ..............................C=0.01, max_iter=1000; total time=   1.0s\n",
      "[CV] END ..................................C=1, max_iter=500; total time=   0.9s\n",
      "[CV] END max_depth=200, max_features=sqrt, n_estimators=2000; total time=  19.3s\n",
      "[CV] END ................................C=500, max_iter=500; total time=   1.1s\n",
      "[CV] END .................................C=1, max_iter=1000; total time=   1.1s\n",
      "[CV] END ...............................C=500, max_iter=1000; total time=   1.3s\n",
      "[CV] END ................................C=10, max_iter=1000; total time=   0.3s\n",
      "[CV] END .max_depth=300, max_features=sqrt, n_estimators=500; total time=   4.7s\n",
      "[CV] END max_depth=200, max_features=sqrt, n_estimators=1500; total time=  14.5s\n",
      "[CV] END ...............................C=100, max_iter=1000; total time=   1.4s\n",
      "[CV] END ................................C=0.1, max_iter=500; total time=   0.6s\n",
      "[CV] END ..............................C=0.01, max_iter=1000; total time=   0.8s\n",
      "[CV] END ................................C=10, max_iter=1000; total time=   0.8s\n",
      "[CV] END max_depth=200, max_features=sqrt, n_estimators=2000; total time=  19.6s\n",
      "[CV] END ................................C=500, max_iter=500; total time=   1.1s\n",
      "[CV] END .................................C=1, max_iter=1000; total time=   1.2s\n",
      "[CV] END ...............................C=500, max_iter=1000; total time=   0.4s\n",
      "[CV] END ................................C=10, max_iter=1000; total time=   0.9s\n",
      "[CV] END .max_depth=300, max_features=sqrt, n_estimators=500; total time=   4.8s\n",
      "[CV] END max_depth=300, max_features=sqrt, n_estimators=2000; total time=  19.2s\n",
      "[CV] END ................................C=500, max_iter=500; total time=   0.3s\n",
      "[CV] END ...............................C=0.01, max_iter=500; total time=   0.6s\n",
      "[CV] END .................................C=1, max_iter=1000; total time=   0.6s\n",
      "[CV] END ................................C=0.1, max_iter=500; total time=   1.2s\n",
      "[CV] END ................................C=10, max_iter=1000; total time=   1.1s\n",
      "[CV] END .max_depth=300, max_features=sqrt, n_estimators=500; total time=   5.1s\n",
      "[CV] END max_depth=300, max_features=sqrt, n_estimators=2000; total time=  19.5s\n",
      "[CV] END .max_depth=200, max_features=sqrt, n_estimators=500; total time=   5.0s\n",
      "[CV] END max_depth=250, max_features=log2, n_estimators=1000; total time=   8.4s\n",
      "[CV] END .max_depth=200, max_features=sqrt, n_estimators=500; total time=   5.0s\n",
      "[CV] END .max_depth=100, max_features=log2, n_estimators=500; total time=   4.3s\n",
      "[CV] END max_depth=150, max_features=sqrt, n_estimators=2000; total time=  17.3s\n",
      "[CV] END .max_depth=200, max_features=sqrt, n_estimators=500; total time=   5.2s\n",
      "[CV] END .max_depth=100, max_features=log2, n_estimators=500; total time=   4.4s\n",
      "[CV] END max_depth=150, max_features=sqrt, n_estimators=2000; total time=  17.3s\n",
      "[CV] END .max_depth=200, max_features=sqrt, n_estimators=500; total time=   5.3s\n",
      "[CV] END .max_depth=100, max_features=log2, n_estimators=500; total time=   4.6s\n",
      "[CV] END max_depth=150, max_features=sqrt, n_estimators=2000; total time=  17.7s\n"
     ]
    },
    {
     "data": {
      "text/html": [
       "<style>#sk-container-id-2 {color: black;background-color: white;}#sk-container-id-2 pre{padding: 0;}#sk-container-id-2 div.sk-toggleable {background-color: white;}#sk-container-id-2 label.sk-toggleable__label {cursor: pointer;display: block;width: 100%;margin-bottom: 0;padding: 0.3em;box-sizing: border-box;text-align: center;}#sk-container-id-2 label.sk-toggleable__label-arrow:before {content: \"▸\";float: left;margin-right: 0.25em;color: #696969;}#sk-container-id-2 label.sk-toggleable__label-arrow:hover:before {color: black;}#sk-container-id-2 div.sk-estimator:hover label.sk-toggleable__label-arrow:before {color: black;}#sk-container-id-2 div.sk-toggleable__content {max-height: 0;max-width: 0;overflow: hidden;text-align: left;background-color: #f0f8ff;}#sk-container-id-2 div.sk-toggleable__content pre {margin: 0.2em;color: black;border-radius: 0.25em;background-color: #f0f8ff;}#sk-container-id-2 input.sk-toggleable__control:checked~div.sk-toggleable__content {max-height: 200px;max-width: 100%;overflow: auto;}#sk-container-id-2 input.sk-toggleable__control:checked~label.sk-toggleable__label-arrow:before {content: \"▾\";}#sk-container-id-2 div.sk-estimator input.sk-toggleable__control:checked~label.sk-toggleable__label {background-color: #d4ebff;}#sk-container-id-2 div.sk-label input.sk-toggleable__control:checked~label.sk-toggleable__label {background-color: #d4ebff;}#sk-container-id-2 input.sk-hidden--visually {border: 0;clip: rect(1px 1px 1px 1px);clip: rect(1px, 1px, 1px, 1px);height: 1px;margin: -1px;overflow: hidden;padding: 0;position: absolute;width: 1px;}#sk-container-id-2 div.sk-estimator {font-family: monospace;background-color: #f0f8ff;border: 1px dotted black;border-radius: 0.25em;box-sizing: border-box;margin-bottom: 0.5em;}#sk-container-id-2 div.sk-estimator:hover {background-color: #d4ebff;}#sk-container-id-2 div.sk-parallel-item::after {content: \"\";width: 100%;border-bottom: 1px solid gray;flex-grow: 1;}#sk-container-id-2 div.sk-label:hover label.sk-toggleable__label {background-color: #d4ebff;}#sk-container-id-2 div.sk-serial::before {content: \"\";position: absolute;border-left: 1px solid gray;box-sizing: border-box;top: 0;bottom: 0;left: 50%;z-index: 0;}#sk-container-id-2 div.sk-serial {display: flex;flex-direction: column;align-items: center;background-color: white;padding-right: 0.2em;padding-left: 0.2em;position: relative;}#sk-container-id-2 div.sk-item {position: relative;z-index: 1;}#sk-container-id-2 div.sk-parallel {display: flex;align-items: stretch;justify-content: center;background-color: white;position: relative;}#sk-container-id-2 div.sk-item::before, #sk-container-id-2 div.sk-parallel-item::before {content: \"\";position: absolute;border-left: 1px solid gray;box-sizing: border-box;top: 0;bottom: 0;left: 50%;z-index: -1;}#sk-container-id-2 div.sk-parallel-item {display: flex;flex-direction: column;z-index: 1;position: relative;background-color: white;}#sk-container-id-2 div.sk-parallel-item:first-child::after {align-self: flex-end;width: 50%;}#sk-container-id-2 div.sk-parallel-item:last-child::after {align-self: flex-start;width: 50%;}#sk-container-id-2 div.sk-parallel-item:only-child::after {width: 0;}#sk-container-id-2 div.sk-dashed-wrapped {border: 1px dashed gray;margin: 0 0.4em 0.5em 0.4em;box-sizing: border-box;padding-bottom: 0.4em;background-color: white;}#sk-container-id-2 div.sk-label label {font-family: monospace;font-weight: bold;display: inline-block;line-height: 1.2em;}#sk-container-id-2 div.sk-label-container {text-align: center;}#sk-container-id-2 div.sk-container {/* jupyter's `normalize.less` sets `[hidden] { display: none; }` but bootstrap.min.css set `[hidden] { display: none !important; }` so we also need the `!important` here to be able to override the default hidden behavior on the sphinx rendered scikit-learn.org. See: https://github.com/scikit-learn/scikit-learn/issues/21755 */display: inline-block !important;position: relative;}#sk-container-id-2 div.sk-text-repr-fallback {display: none;}</style><div id=\"sk-container-id-2\" class=\"sk-top-container\"><div class=\"sk-text-repr-fallback\"><pre>RandomForestClassifier(max_depth=300, n_estimators=2000)</pre><b>In a Jupyter environment, please rerun this cell to show the HTML representation or trust the notebook. <br />On GitHub, the HTML representation is unable to render, please try loading this page with nbviewer.org.</b></div><div class=\"sk-container\" hidden><div class=\"sk-item\"><div class=\"sk-estimator sk-toggleable\"><input class=\"sk-toggleable__control sk-hidden--visually\" id=\"sk-estimator-id-2\" type=\"checkbox\" checked><label for=\"sk-estimator-id-2\" class=\"sk-toggleable__label sk-toggleable__label-arrow\">RandomForestClassifier</label><div class=\"sk-toggleable__content\"><pre>RandomForestClassifier(max_depth=300, n_estimators=2000)</pre></div></div></div></div></div>"
      ],
      "text/plain": [
       "RandomForestClassifier(max_depth=300, n_estimators=2000)"
      ]
     },
     "execution_count": 18,
     "metadata": {},
     "output_type": "execute_result"
    }
   ],
   "source": [
    "# Realizar la búsqueda aleatoria de hiperparámetros\n",
    "rf_model_search = RandomizedSearchCV(\n",
    "    rf_model,\n",
    "    param_distributions=rf_parameters,\n",
    "    n_iter=10,  # Número de combinaciones de hiperparámetros a probar\n",
    "    cv=5,  # Número de divisiones para la validación cruzada\n",
    "    random_state=42,\n",
    "    n_jobs=-1,\n",
    "    verbose=2\n",
    ")\n",
    "rf_model_search.fit(x_train, y_train)\n",
    "\n",
    "# Crear un nuevo clasificador LogisticRegression con los mejores hiperparámetros\n",
    "rf_model = RandomForestClassifier(**rf_model_search.best_params_)\n",
    "\n",
    "# Entrenar el modelo con los datos de entrenamiento\n",
    "rf_model.fit(x_train, y_train)"
   ]
  },
  {
   "cell_type": "code",
   "execution_count": 19,
   "metadata": {
    "id": "2E_LuHNCKOU8"
   },
   "outputs": [
    {
     "data": {
      "image/png": "[encoded data removed]",
      "text/plain": [
       "<Figure size 640x480 with 1 Axes>"
      ]
     },
     "metadata": {},
     "output_type": "display_data"
    }
   ],
   "source": [
    "# Cálculo del AUC y gráfica de la Curva ROC\n",
    "plot_roc_curve(rf_model, x_test, y_test)"
   ]
  },
  {
   "cell_type": "code",
   "execution_count": 20,
   "metadata": {
    "colab": {
     "base_uri": "https://localhost:8080/",
     "height": 472
    },
    "id": "YRjGDnPTh1dV",
    "outputId": "cff8e15e-608e-4550-fe97-52580fbfe0bf"
   },
   "outputs": [
    {
     "name": "stdout",
     "output_type": "stream",
     "text": [
      "              precision    recall  f1-score   support\n",
      "\n",
      "           0       0.75      0.65      0.70      1654\n",
      "           1       0.76      0.83      0.79      2129\n",
      "\n",
      "    accuracy                           0.75      3783\n",
      "   macro avg       0.75      0.74      0.75      3783\n",
      "weighted avg       0.75      0.75      0.75      3783\n",
      "\n"
     ]
    }
   ],
   "source": [
    "# Evaluar el modelo con los datos de prueba\n",
    "y_pred = rf_model.predict(x_test)\n",
    "\n",
    "# Imprimir informe de clasificación\n",
    "print(classification_report(y_test, y_pred))"
   ]
  },
  {
   "cell_type": "markdown",
   "metadata": {},
   "source": [
    "## SVM"
   ]
  },
  {
   "cell_type": "code",
   "execution_count": 21,
   "metadata": {},
   "outputs": [],
   "source": [
    "# Crear el clasificador SVC\n",
    "svm_model = SVC()"
   ]
  },
  {
   "cell_type": "code",
   "execution_count": 22,
   "metadata": {},
   "outputs": [],
   "source": [
    "# Definir los hiperparámetros a buscar en la búsqueda aleatoria\n",
    "svm_parameters = {\n",
    "    \"C\": [0.1, 1, 10, 100],\n",
    "    \"kernel\": [\"linear\", \"rbf\", \"sigmoid\"],\n",
    "    \"gamma\": [\"scale\", \"auto\"]\n",
    "}"
   ]
  },
  {
   "cell_type": "code",
   "execution_count": 23,
   "metadata": {},
   "outputs": [
    {
     "name": "stdout",
     "output_type": "stream",
     "text": [
      "Fitting 5 folds for each of 10 candidates, totalling 50 fits\n"
     ]
    },
    {
     "data": {
      "text/html": [
       "<style>#sk-container-id-3 {color: black;background-color: white;}#sk-container-id-3 pre{padding: 0;}#sk-container-id-3 div.sk-toggleable {background-color: white;}#sk-container-id-3 label.sk-toggleable__label {cursor: pointer;display: block;width: 100%;margin-bottom: 0;padding: 0.3em;box-sizing: border-box;text-align: center;}#sk-container-id-3 label.sk-toggleable__label-arrow:before {content: \"▸\";float: left;margin-right: 0.25em;color: #696969;}#sk-container-id-3 label.sk-toggleable__label-arrow:hover:before {color: black;}#sk-container-id-3 div.sk-estimator:hover label.sk-toggleable__label-arrow:before {color: black;}#sk-container-id-3 div.sk-toggleable__content {max-height: 0;max-width: 0;overflow: hidden;text-align: left;background-color: #f0f8ff;}#sk-container-id-3 div.sk-toggleable__content pre {margin: 0.2em;color: black;border-radius: 0.25em;background-color: #f0f8ff;}#sk-container-id-3 input.sk-toggleable__control:checked~div.sk-toggleable__content {max-height: 200px;max-width: 100%;overflow: auto;}#sk-container-id-3 input.sk-toggleable__control:checked~label.sk-toggleable__label-arrow:before {content: \"▾\";}#sk-container-id-3 div.sk-estimator input.sk-toggleable__control:checked~label.sk-toggleable__label {background-color: #d4ebff;}#sk-container-id-3 div.sk-label input.sk-toggleable__control:checked~label.sk-toggleable__label {background-color: #d4ebff;}#sk-container-id-3 input.sk-hidden--visually {border: 0;clip: rect(1px 1px 1px 1px);clip: rect(1px, 1px, 1px, 1px);height: 1px;margin: -1px;overflow: hidden;padding: 0;position: absolute;width: 1px;}#sk-container-id-3 div.sk-estimator {font-family: monospace;background-color: #f0f8ff;border: 1px dotted black;border-radius: 0.25em;box-sizing: border-box;margin-bottom: 0.5em;}#sk-container-id-3 div.sk-estimator:hover {background-color: #d4ebff;}#sk-container-id-3 div.sk-parallel-item::after {content: \"\";width: 100%;border-bottom: 1px solid gray;flex-grow: 1;}#sk-container-id-3 div.sk-label:hover label.sk-toggleable__label {background-color: #d4ebff;}#sk-container-id-3 div.sk-serial::before {content: \"\";position: absolute;border-left: 1px solid gray;box-sizing: border-box;top: 0;bottom: 0;left: 50%;z-index: 0;}#sk-container-id-3 div.sk-serial {display: flex;flex-direction: column;align-items: center;background-color: white;padding-right: 0.2em;padding-left: 0.2em;position: relative;}#sk-container-id-3 div.sk-item {position: relative;z-index: 1;}#sk-container-id-3 div.sk-parallel {display: flex;align-items: stretch;justify-content: center;background-color: white;position: relative;}#sk-container-id-3 div.sk-item::before, #sk-container-id-3 div.sk-parallel-item::before {content: \"\";position: absolute;border-left: 1px solid gray;box-sizing: border-box;top: 0;bottom: 0;left: 50%;z-index: -1;}#sk-container-id-3 div.sk-parallel-item {display: flex;flex-direction: column;z-index: 1;position: relative;background-color: white;}#sk-container-id-3 div.sk-parallel-item:first-child::after {align-self: flex-end;width: 50%;}#sk-container-id-3 div.sk-parallel-item:last-child::after {align-self: flex-start;width: 50%;}#sk-container-id-3 div.sk-parallel-item:only-child::after {width: 0;}#sk-container-id-3 div.sk-dashed-wrapped {border: 1px dashed gray;margin: 0 0.4em 0.5em 0.4em;box-sizing: border-box;padding-bottom: 0.4em;background-color: white;}#sk-container-id-3 div.sk-label label {font-family: monospace;font-weight: bold;display: inline-block;line-height: 1.2em;}#sk-container-id-3 div.sk-label-container {text-align: center;}#sk-container-id-3 div.sk-container {/* jupyter's `normalize.less` sets `[hidden] { display: none; }` but bootstrap.min.css set `[hidden] { display: none !important; }` so we also need the `!important` here to be able to override the default hidden behavior on the sphinx rendered scikit-learn.org. See: https://github.com/scikit-learn/scikit-learn/issues/21755 */display: inline-block !important;position: relative;}#sk-container-id-3 div.sk-text-repr-fallback {display: none;}</style><div id=\"sk-container-id-3\" class=\"sk-top-container\"><div class=\"sk-text-repr-fallback\"><pre>SVC(C=10, gamma=&#x27;auto&#x27;, probability=True)</pre><b>In a Jupyter environment, please rerun this cell to show the HTML representation or trust the notebook. <br />On GitHub, the HTML representation is unable to render, please try loading this page with nbviewer.org.</b></div><div class=\"sk-container\" hidden><div class=\"sk-item\"><div class=\"sk-estimator sk-toggleable\"><input class=\"sk-toggleable__control sk-hidden--visually\" id=\"sk-estimator-id-3\" type=\"checkbox\" checked><label for=\"sk-estimator-id-3\" class=\"sk-toggleable__label sk-toggleable__label-arrow\">SVC</label><div class=\"sk-toggleable__content\"><pre>SVC(C=10, gamma=&#x27;auto&#x27;, probability=True)</pre></div></div></div></div></div>"
      ],
      "text/plain": [
       "SVC(C=10, gamma='auto', probability=True)"
      ]
     },
     "execution_count": 23,
     "metadata": {},
     "output_type": "execute_result"
    }
   ],
   "source": [
    "# Realizar la búsqueda aleatoria de hiperparámetros\n",
    "svm_model_search = RandomizedSearchCV(\n",
    "    svm_model,\n",
    "    param_distributions=svm_parameters,\n",
    "    n_iter=10,  # Número de combinaciones de hiperparámetros a probar\n",
    "    cv=5,  # Número de divisiones para la validación cruzada\n",
    "    random_state=42,\n",
    "    n_jobs=-1,\n",
    "    verbose=2\n",
    ")\n",
    "svm_model_search.fit(x_train, y_train)\n",
    "\n",
    "# Crear un nuevo clasificador LogisticRegression con los mejores hiperparámetros\n",
    "svm_model = SVC(**svm_model_search.best_params_, probability=True)\n",
    "\n",
    "# Entrenar el modelo con los datos de entrenamiento\n",
    "svm_model.fit(x_train, y_train)"
   ]
  },
  {
   "cell_type": "code",
   "execution_count": 24,
   "metadata": {},
   "outputs": [
    {
     "data": {
      "image/png": "[encoded data removed]",
      "text/plain": [
       "<Figure size 640x480 with 1 Axes>"
      ]
     },
     "metadata": {},
     "output_type": "display_data"
    }
   ],
   "source": [
    "# Cálculo del AUC y gráfica de la Curva ROC\n",
    "plot_roc_curve(svm_model, x_test, y_test)"
   ]
  },
  {
   "cell_type": "code",
   "execution_count": 25,
   "metadata": {},
   "outputs": [
    {
     "name": "stdout",
     "output_type": "stream",
     "text": [
      "              precision    recall  f1-score   support\n",
      "\n",
      "           0       0.71      0.60      0.65      1654\n",
      "           1       0.72      0.81      0.77      2129\n",
      "\n",
      "    accuracy                           0.72      3783\n",
      "   macro avg       0.72      0.71      0.71      3783\n",
      "weighted avg       0.72      0.72      0.72      3783\n",
      "\n"
     ]
    }
   ],
   "source": [
    "# Evaluar el modelo con los datos de prueba\n",
    "y_pred = svm_model.predict(x_test)\n",
    "\n",
    "# Imprimir informe de clasificación\n",
    "print(classification_report(y_test, y_pred))"
   ]
  },
  {
   "cell_type": "markdown",
   "metadata": {
    "id": "u_rdB_ugdpX1"
   },
   "source": [
    "## XGBoost"
   ]
  },
  {
   "cell_type": "code",
   "execution_count": 26,
   "metadata": {
    "id": "CXO9zQCs8rgI"
   },
   "outputs": [],
   "source": [
    "# Crear el clasificador XGBoost\n",
    "xgb_model = xgb.XGBClassifier()"
   ]
  },
  {
   "cell_type": "code",
   "execution_count": 27,
   "metadata": {
    "id": "WBrLS_UJ7rX6"
   },
   "outputs": [],
   "source": [
    "# Definir los hiperparámetros a buscar en la búsqueda aleatoria\n",
    "xgb_parameters = {\n",
    "    \"max_depth\": [1, 5, 10, 50],\n",
    "    \"n_estimators\": [100, 500, 1000, 2000]\n",
    "}"
   ]
  },
  {
   "cell_type": "code",
   "execution_count": 28,
   "metadata": {
    "colab": {
     "base_uri": "https://localhost:8080/",
     "height": 118
    },
    "id": "AUfSvnBb8pfQ",
    "outputId": "b5ae326c-47ee-4df4-aecd-141f741778d9"
   },
   "outputs": [
    {
     "name": "stdout",
     "output_type": "stream",
     "text": [
      "Fitting 5 folds for each of 10 candidates, totalling 50 fits\n"
     ]
    },
    {
     "data": {
      "text/html": [
       "<style>#sk-container-id-4 {color: black;background-color: white;}#sk-container-id-4 pre{padding: 0;}#sk-container-id-4 div.sk-toggleable {background-color: white;}#sk-container-id-4 label.sk-toggleable__label {cursor: pointer;display: block;width: 100%;margin-bottom: 0;padding: 0.3em;box-sizing: border-box;text-align: center;}#sk-container-id-4 label.sk-toggleable__label-arrow:before {content: \"▸\";float: left;margin-right: 0.25em;color: #696969;}#sk-container-id-4 label.sk-toggleable__label-arrow:hover:before {color: black;}#sk-container-id-4 div.sk-estimator:hover label.sk-toggleable__label-arrow:before {color: black;}#sk-container-id-4 div.sk-toggleable__content {max-height: 0;max-width: 0;overflow: hidden;text-align: left;background-color: #f0f8ff;}#sk-container-id-4 div.sk-toggleable__content pre {margin: 0.2em;color: black;border-radius: 0.25em;background-color: #f0f8ff;}#sk-container-id-4 input.sk-toggleable__control:checked~div.sk-toggleable__content {max-height: 200px;max-width: 100%;overflow: auto;}#sk-container-id-4 input.sk-toggleable__control:checked~label.sk-toggleable__label-arrow:before {content: \"▾\";}#sk-container-id-4 div.sk-estimator input.sk-toggleable__control:checked~label.sk-toggleable__label {background-color: #d4ebff;}#sk-container-id-4 div.sk-label input.sk-toggleable__control:checked~label.sk-toggleable__label {background-color: #d4ebff;}#sk-container-id-4 input.sk-hidden--visually {border: 0;clip: rect(1px 1px 1px 1px);clip: rect(1px, 1px, 1px, 1px);height: 1px;margin: -1px;overflow: hidden;padding: 0;position: absolute;width: 1px;}#sk-container-id-4 div.sk-estimator {font-family: monospace;background-color: #f0f8ff;border: 1px dotted black;border-radius: 0.25em;box-sizing: border-box;margin-bottom: 0.5em;}#sk-container-id-4 div.sk-estimator:hover {background-color: #d4ebff;}#sk-container-id-4 div.sk-parallel-item::after {content: \"\";width: 100%;border-bottom: 1px solid gray;flex-grow: 1;}#sk-container-id-4 div.sk-label:hover label.sk-toggleable__label {background-color: #d4ebff;}#sk-container-id-4 div.sk-serial::before {content: \"\";position: absolute;border-left: 1px solid gray;box-sizing: border-box;top: 0;bottom: 0;left: 50%;z-index: 0;}#sk-container-id-4 div.sk-serial {display: flex;flex-direction: column;align-items: center;background-color: white;padding-right: 0.2em;padding-left: 0.2em;position: relative;}#sk-container-id-4 div.sk-item {position: relative;z-index: 1;}#sk-container-id-4 div.sk-parallel {display: flex;align-items: stretch;justify-content: center;background-color: white;position: relative;}#sk-container-id-4 div.sk-item::before, #sk-container-id-4 div.sk-parallel-item::before {content: \"\";position: absolute;border-left: 1px solid gray;box-sizing: border-box;top: 0;bottom: 0;left: 50%;z-index: -1;}#sk-container-id-4 div.sk-parallel-item {display: flex;flex-direction: column;z-index: 1;position: relative;background-color: white;}#sk-container-id-4 div.sk-parallel-item:first-child::after {align-self: flex-end;width: 50%;}#sk-container-id-4 div.sk-parallel-item:last-child::after {align-self: flex-start;width: 50%;}#sk-container-id-4 div.sk-parallel-item:only-child::after {width: 0;}#sk-container-id-4 div.sk-dashed-wrapped {border: 1px dashed gray;margin: 0 0.4em 0.5em 0.4em;box-sizing: border-box;padding-bottom: 0.4em;background-color: white;}#sk-container-id-4 div.sk-label label {font-family: monospace;font-weight: bold;display: inline-block;line-height: 1.2em;}#sk-container-id-4 div.sk-label-container {text-align: center;}#sk-container-id-4 div.sk-container {/* jupyter's `normalize.less` sets `[hidden] { display: none; }` but bootstrap.min.css set `[hidden] { display: none !important; }` so we also need the `!important` here to be able to override the default hidden behavior on the sphinx rendered scikit-learn.org. See: https://github.com/scikit-learn/scikit-learn/issues/21755 */display: inline-block !important;position: relative;}#sk-container-id-4 div.sk-text-repr-fallback {display: none;}</style><div id=\"sk-container-id-4\" class=\"sk-top-container\"><div class=\"sk-text-repr-fallback\"><pre>XGBClassifier(base_score=None, booster=None, callbacks=None,\n",
       "              colsample_bylevel=None, colsample_bynode=None,\n",
       "              colsample_bytree=None, early_stopping_rounds=None,\n",
       "              enable_categorical=False, eval_metric=None, feature_types=None,\n",
       "              gamma=None, gpu_id=None, grow_policy=None, importance_type=None,\n",
       "              interaction_constraints=None, learning_rate=None, max_bin=None,\n",
       "              max_cat_threshold=None, max_cat_to_onehot=None,\n",
       "              max_delta_step=None, max_depth=50, max_leaves=None,\n",
       "              min_child_weight=None, missing=nan, monotone_constraints=None,\n",
       "              n_estimators=500, n_jobs=None, num_parallel_tree=None,\n",
       "              predictor=None, random_state=None, ...)</pre><b>In a Jupyter environment, please rerun this cell to show the HTML representation or trust the notebook. <br />On GitHub, the HTML representation is unable to render, please try loading this page with nbviewer.org.</b></div><div class=\"sk-container\" hidden><div class=\"sk-item\"><div class=\"sk-estimator sk-toggleable\"><input class=\"sk-toggleable__control sk-hidden--visually\" id=\"sk-estimator-id-4\" type=\"checkbox\" checked><label for=\"sk-estimator-id-4\" class=\"sk-toggleable__label sk-toggleable__label-arrow\">XGBClassifier</label><div class=\"sk-toggleable__content\"><pre>XGBClassifier(base_score=None, booster=None, callbacks=None,\n",
       "              colsample_bylevel=None, colsample_bynode=None,\n",
       "              colsample_bytree=None, early_stopping_rounds=None,\n",
       "              enable_categorical=False, eval_metric=None, feature_types=None,\n",
       "              gamma=None, gpu_id=None, grow_policy=None, importance_type=None,\n",
       "              interaction_constraints=None, learning_rate=None, max_bin=None,\n",
       "              max_cat_threshold=None, max_cat_to_onehot=None,\n",
       "              max_delta_step=None, max_depth=50, max_leaves=None,\n",
       "              min_child_weight=None, missing=nan, monotone_constraints=None,\n",
       "              n_estimators=500, n_jobs=None, num_parallel_tree=None,\n",
       "              predictor=None, random_state=None, ...)</pre></div></div></div></div></div>"
      ],
      "text/plain": [
       "XGBClassifier(base_score=None, booster=None, callbacks=None,\n",
       "              colsample_bylevel=None, colsample_bynode=None,\n",
       "              colsample_bytree=None, early_stopping_rounds=None,\n",
       "              enable_categorical=False, eval_metric=None, feature_types=None,\n",
       "              gamma=None, gpu_id=None, grow_policy=None, importance_type=None,\n",
       "              interaction_constraints=None, learning_rate=None, max_bin=None,\n",
       "              max_cat_threshold=None, max_cat_to_onehot=None,\n",
       "              max_delta_step=None, max_depth=50, max_leaves=None,\n",
       "              min_child_weight=None, missing=nan, monotone_constraints=None,\n",
       "              n_estimators=500, n_jobs=None, num_parallel_tree=None,\n",
       "              predictor=None, random_state=None, ...)"
      ]
     },
     "execution_count": 28,
     "metadata": {},
     "output_type": "execute_result"
    }
   ],
   "source": [
    "# Realizar la búsqueda aleatoria de hiperparámetros\n",
    "xgb_model_search = RandomizedSearchCV(\n",
    "    xgb_model,\n",
    "    param_distributions=xgb_parameters,\n",
    "    n_iter=10,  # Número de combinaciones de hiperparámetros a probar\n",
    "    cv=5,  # Número de divisiones para la validación cruzada\n",
    "    random_state=42,\n",
    "    n_jobs=-1,\n",
    "    verbose=2\n",
    ")\n",
    "xgb_model_search.fit(x_train, y_train)\n",
    "\n",
    "# Crear un nuevo clasificador LogisticRegression con los mejores hiperparámetros\n",
    "xgb_model = xgb.XGBClassifier(**xgb_model_search.best_params_)\n",
    "\n",
    "# Entrenar el modelo con los datos de entrenamiento\n",
    "xgb_model.fit(x_train, y_train)"
   ]
  },
  {
   "cell_type": "code",
   "execution_count": 29,
   "metadata": {
    "colab": {
     "base_uri": "https://localhost:8080/"
    },
    "id": "nqM9paDu821X",
    "outputId": "012f598c-36a3-4b7d-92cc-e0e750a292a8"
   },
   "outputs": [
    {
     "data": {
      "image/png": "[encoded data removed]",
      "text/plain": [
       "<Figure size 640x480 with 1 Axes>"
      ]
     },
     "metadata": {},
     "output_type": "display_data"
    }
   ],
   "source": [
    "# Cálculo del AUC y gráfica de la Curva ROC\n",
    "plot_roc_curve(xgb_model, x_test, y_test)"
   ]
  },
  {
   "cell_type": "code",
   "execution_count": 30,
   "metadata": {
    "colab": {
     "base_uri": "https://localhost:8080/",
     "height": 472
    },
    "id": "PuzQwvoO902h",
    "outputId": "4a72efba-b9d2-4543-cba4-d02ae397650a"
   },
   "outputs": [
    {
     "name": "stdout",
     "output_type": "stream",
     "text": [
      "              precision    recall  f1-score   support\n",
      "\n",
      "           0       0.73      0.69      0.71      1654\n",
      "           1       0.77      0.81      0.79      2129\n",
      "\n",
      "    accuracy                           0.75      3783\n",
      "   macro avg       0.75      0.75      0.75      3783\n",
      "weighted avg       0.75      0.75      0.75      3783\n",
      "\n"
     ]
    }
   ],
   "source": [
    "# Evaluar el modelo con los datos de prueba\n",
    "y_pred = xgb_model.predict(x_test)\n",
    "\n",
    "# Imprimir informe de clasificación\n",
    "print(classification_report(y_test, y_pred))"
   ]
  },
  {
   "cell_type": "markdown",
   "metadata": {
    "id": "hvX9JSCGDUHn"
   },
   "source": [
    "## Multi Layer Perceptron"
   ]
  },
  {
   "cell_type": "code",
   "execution_count": 31,
   "metadata": {
    "id": "q95n1RmKDhWX"
   },
   "outputs": [],
   "source": [
    "# Crear el clasificador de redes neuronales\n",
    "mlp_model = MLPClassifier()"
   ]
  },
  {
   "cell_type": "code",
   "execution_count": 32,
   "metadata": {
    "id": "tylGQD2gDXzQ"
   },
   "outputs": [],
   "source": [
    "# Definir los hiperparámetros a buscar en la búsqueda aleatoria\n",
    "mlp_parameters = {\n",
    "    \"hidden_layer_sizes\": [[100], [200], [300], [500]],\n",
    "    \"activation\": [\"identity\", \"logistic\", \"tanh\", \"relu\"],\n",
    "    \"max_iter\": [700, 700]\n",
    "}"
   ]
  },
  {
   "cell_type": "code",
   "execution_count": 33,
   "metadata": {
    "colab": {
     "base_uri": "https://localhost:8080/",
     "height": 971
    },
    "id": "gqZWgdQ5DmBQ",
    "outputId": "cbc7b0e9-7007-4bdd-da75-304067d529e4"
   },
   "outputs": [
    {
     "name": "stdout",
     "output_type": "stream",
     "text": [
      "Fitting 5 folds for each of 10 candidates, totalling 50 fits\n"
     ]
    },
    {
     "name": "stderr",
     "output_type": "stream",
     "text": [
      "/home/echo/dev/in-vehicle-coupon-recommendation/.venv/lib/python3.11/site-packages/sklearn/neural_network/_multilayer_perceptron.py:686: ConvergenceWarning: Stochastic Optimizer: Maximum iterations (700) reached and the optimization hasn't converged yet.\n",
      "  warnings.warn(\n",
      "/home/echo/dev/in-vehicle-coupon-recommendation/.venv/lib/python3.11/site-packages/sklearn/neural_network/_multilayer_perceptron.py:686: ConvergenceWarning: Stochastic Optimizer: Maximum iterations (500) reached and the optimization hasn't converged yet.\n",
      "  warnings.warn(\n",
      "/home/echo/dev/in-vehicle-coupon-recommendation/.venv/lib/python3.11/site-packages/sklearn/neural_network/_multilayer_perceptron.py:686: ConvergenceWarning: Stochastic Optimizer: Maximum iterations (500) reached and the optimization hasn't converged yet.\n",
      "  warnings.warn(\n",
      "/home/echo/dev/in-vehicle-coupon-recommendation/.venv/lib/python3.11/site-packages/sklearn/neural_network/_multilayer_perceptron.py:686: ConvergenceWarning: Stochastic Optimizer: Maximum iterations (500) reached and the optimization hasn't converged yet.\n",
      "  warnings.warn(\n",
      "/home/echo/dev/in-vehicle-coupon-recommendation/.venv/lib/python3.11/site-packages/sklearn/neural_network/_multilayer_perceptron.py:686: ConvergenceWarning: Stochastic Optimizer: Maximum iterations (500) reached and the optimization hasn't converged yet.\n",
      "  warnings.warn(\n",
      "/home/echo/dev/in-vehicle-coupon-recommendation/.venv/lib/python3.11/site-packages/sklearn/neural_network/_multilayer_perceptron.py:686: ConvergenceWarning: Stochastic Optimizer: Maximum iterations (500) reached and the optimization hasn't converged yet.\n",
      "  warnings.warn(\n",
      "/home/echo/dev/in-vehicle-coupon-recommendation/.venv/lib/python3.11/site-packages/sklearn/neural_network/_multilayer_perceptron.py:686: ConvergenceWarning: Stochastic Optimizer: Maximum iterations (700) reached and the optimization hasn't converged yet.\n",
      "  warnings.warn(\n",
      "/home/echo/dev/in-vehicle-coupon-recommendation/.venv/lib/python3.11/site-packages/sklearn/neural_network/_multilayer_perceptron.py:686: ConvergenceWarning: Stochastic Optimizer: Maximum iterations (700) reached and the optimization hasn't converged yet.\n",
      "  warnings.warn(\n",
      "/home/echo/dev/in-vehicle-coupon-recommendation/.venv/lib/python3.11/site-packages/sklearn/neural_network/_multilayer_perceptron.py:686: ConvergenceWarning: Stochastic Optimizer: Maximum iterations (700) reached and the optimization hasn't converged yet.\n",
      "  warnings.warn(\n",
      "/home/echo/dev/in-vehicle-coupon-recommendation/.venv/lib/python3.11/site-packages/sklearn/neural_network/_multilayer_perceptron.py:686: ConvergenceWarning: Stochastic Optimizer: Maximum iterations (700) reached and the optimization hasn't converged yet.\n",
      "  warnings.warn(\n",
      "/home/echo/dev/in-vehicle-coupon-recommendation/.venv/lib/python3.11/site-packages/sklearn/neural_network/_multilayer_perceptron.py:686: ConvergenceWarning: Stochastic Optimizer: Maximum iterations (700) reached and the optimization hasn't converged yet.\n",
      "  warnings.warn(\n",
      "/home/echo/dev/in-vehicle-coupon-recommendation/.venv/lib/python3.11/site-packages/sklearn/neural_network/_multilayer_perceptron.py:686: ConvergenceWarning: Stochastic Optimizer: Maximum iterations (700) reached and the optimization hasn't converged yet.\n",
      "  warnings.warn(\n",
      "/home/echo/dev/in-vehicle-coupon-recommendation/.venv/lib/python3.11/site-packages/sklearn/neural_network/_multilayer_perceptron.py:686: ConvergenceWarning: Stochastic Optimizer: Maximum iterations (700) reached and the optimization hasn't converged yet.\n",
      "  warnings.warn(\n",
      "/home/echo/dev/in-vehicle-coupon-recommendation/.venv/lib/python3.11/site-packages/sklearn/neural_network/_multilayer_perceptron.py:686: ConvergenceWarning: Stochastic Optimizer: Maximum iterations (700) reached and the optimization hasn't converged yet.\n",
      "  warnings.warn(\n",
      "/home/echo/dev/in-vehicle-coupon-recommendation/.venv/lib/python3.11/site-packages/sklearn/neural_network/_multilayer_perceptron.py:686: ConvergenceWarning: Stochastic Optimizer: Maximum iterations (700) reached and the optimization hasn't converged yet.\n",
      "  warnings.warn(\n",
      "/home/echo/dev/in-vehicle-coupon-recommendation/.venv/lib/python3.11/site-packages/sklearn/neural_network/_multilayer_perceptron.py:686: ConvergenceWarning: Stochastic Optimizer: Maximum iterations (700) reached and the optimization hasn't converged yet.\n",
      "  warnings.warn(\n",
      "/home/echo/dev/in-vehicle-coupon-recommendation/.venv/lib/python3.11/site-packages/sklearn/neural_network/_multilayer_perceptron.py:686: ConvergenceWarning: Stochastic Optimizer: Maximum iterations (500) reached and the optimization hasn't converged yet.\n",
      "  warnings.warn(\n",
      "/home/echo/dev/in-vehicle-coupon-recommendation/.venv/lib/python3.11/site-packages/sklearn/neural_network/_multilayer_perceptron.py:686: ConvergenceWarning: Stochastic Optimizer: Maximum iterations (500) reached and the optimization hasn't converged yet.\n",
      "  warnings.warn(\n",
      "/home/echo/dev/in-vehicle-coupon-recommendation/.venv/lib/python3.11/site-packages/sklearn/neural_network/_multilayer_perceptron.py:686: ConvergenceWarning: Stochastic Optimizer: Maximum iterations (500) reached and the optimization hasn't converged yet.\n",
      "  warnings.warn(\n",
      "/home/echo/dev/in-vehicle-coupon-recommendation/.venv/lib/python3.11/site-packages/sklearn/neural_network/_multilayer_perceptron.py:686: ConvergenceWarning: Stochastic Optimizer: Maximum iterations (500) reached and the optimization hasn't converged yet.\n",
      "  warnings.warn(\n",
      "/home/echo/dev/in-vehicle-coupon-recommendation/.venv/lib/python3.11/site-packages/sklearn/neural_network/_multilayer_perceptron.py:686: ConvergenceWarning: Stochastic Optimizer: Maximum iterations (500) reached and the optimization hasn't converged yet.\n",
      "  warnings.warn(\n",
      "/home/echo/dev/in-vehicle-coupon-recommendation/.venv/lib/python3.11/site-packages/sklearn/neural_network/_multilayer_perceptron.py:686: ConvergenceWarning: Stochastic Optimizer: Maximum iterations (500) reached and the optimization hasn't converged yet.\n",
      "  warnings.warn(\n",
      "/home/echo/dev/in-vehicle-coupon-recommendation/.venv/lib/python3.11/site-packages/sklearn/neural_network/_multilayer_perceptron.py:686: ConvergenceWarning: Stochastic Optimizer: Maximum iterations (500) reached and the optimization hasn't converged yet.\n",
      "  warnings.warn(\n",
      "/home/echo/dev/in-vehicle-coupon-recommendation/.venv/lib/python3.11/site-packages/sklearn/neural_network/_multilayer_perceptron.py:686: ConvergenceWarning: Stochastic Optimizer: Maximum iterations (500) reached and the optimization hasn't converged yet.\n",
      "  warnings.warn(\n",
      "/home/echo/dev/in-vehicle-coupon-recommendation/.venv/lib/python3.11/site-packages/sklearn/neural_network/_multilayer_perceptron.py:686: ConvergenceWarning: Stochastic Optimizer: Maximum iterations (500) reached and the optimization hasn't converged yet.\n",
      "  warnings.warn(\n",
      "/home/echo/dev/in-vehicle-coupon-recommendation/.venv/lib/python3.11/site-packages/sklearn/neural_network/_multilayer_perceptron.py:686: ConvergenceWarning: Stochastic Optimizer: Maximum iterations (500) reached and the optimization hasn't converged yet.\n",
      "  warnings.warn(\n",
      "/home/echo/dev/in-vehicle-coupon-recommendation/.venv/lib/python3.11/site-packages/sklearn/neural_network/_multilayer_perceptron.py:686: ConvergenceWarning: Stochastic Optimizer: Maximum iterations (500) reached and the optimization hasn't converged yet.\n",
      "  warnings.warn(\n"
     ]
    },
    {
     "data": {
      "text/html": [
       "<style>#sk-container-id-5 {color: black;background-color: white;}#sk-container-id-5 pre{padding: 0;}#sk-container-id-5 div.sk-toggleable {background-color: white;}#sk-container-id-5 label.sk-toggleable__label {cursor: pointer;display: block;width: 100%;margin-bottom: 0;padding: 0.3em;box-sizing: border-box;text-align: center;}#sk-container-id-5 label.sk-toggleable__label-arrow:before {content: \"▸\";float: left;margin-right: 0.25em;color: #696969;}#sk-container-id-5 label.sk-toggleable__label-arrow:hover:before {color: black;}#sk-container-id-5 div.sk-estimator:hover label.sk-toggleable__label-arrow:before {color: black;}#sk-container-id-5 div.sk-toggleable__content {max-height: 0;max-width: 0;overflow: hidden;text-align: left;background-color: #f0f8ff;}#sk-container-id-5 div.sk-toggleable__content pre {margin: 0.2em;color: black;border-radius: 0.25em;background-color: #f0f8ff;}#sk-container-id-5 input.sk-toggleable__control:checked~div.sk-toggleable__content {max-height: 200px;max-width: 100%;overflow: auto;}#sk-container-id-5 input.sk-toggleable__control:checked~label.sk-toggleable__label-arrow:before {content: \"▾\";}#sk-container-id-5 div.sk-estimator input.sk-toggleable__control:checked~label.sk-toggleable__label {background-color: #d4ebff;}#sk-container-id-5 div.sk-label input.sk-toggleable__control:checked~label.sk-toggleable__label {background-color: #d4ebff;}#sk-container-id-5 input.sk-hidden--visually {border: 0;clip: rect(1px 1px 1px 1px);clip: rect(1px, 1px, 1px, 1px);height: 1px;margin: -1px;overflow: hidden;padding: 0;position: absolute;width: 1px;}#sk-container-id-5 div.sk-estimator {font-family: monospace;background-color: #f0f8ff;border: 1px dotted black;border-radius: 0.25em;box-sizing: border-box;margin-bottom: 0.5em;}#sk-container-id-5 div.sk-estimator:hover {background-color: #d4ebff;}#sk-container-id-5 div.sk-parallel-item::after {content: \"\";width: 100%;border-bottom: 1px solid gray;flex-grow: 1;}#sk-container-id-5 div.sk-label:hover label.sk-toggleable__label {background-color: #d4ebff;}#sk-container-id-5 div.sk-serial::before {content: \"\";position: absolute;border-left: 1px solid gray;box-sizing: border-box;top: 0;bottom: 0;left: 50%;z-index: 0;}#sk-container-id-5 div.sk-serial {display: flex;flex-direction: column;align-items: center;background-color: white;padding-right: 0.2em;padding-left: 0.2em;position: relative;}#sk-container-id-5 div.sk-item {position: relative;z-index: 1;}#sk-container-id-5 div.sk-parallel {display: flex;align-items: stretch;justify-content: center;background-color: white;position: relative;}#sk-container-id-5 div.sk-item::before, #sk-container-id-5 div.sk-parallel-item::before {content: \"\";position: absolute;border-left: 1px solid gray;box-sizing: border-box;top: 0;bottom: 0;left: 50%;z-index: -1;}#sk-container-id-5 div.sk-parallel-item {display: flex;flex-direction: column;z-index: 1;position: relative;background-color: white;}#sk-container-id-5 div.sk-parallel-item:first-child::after {align-self: flex-end;width: 50%;}#sk-container-id-5 div.sk-parallel-item:last-child::after {align-self: flex-start;width: 50%;}#sk-container-id-5 div.sk-parallel-item:only-child::after {width: 0;}#sk-container-id-5 div.sk-dashed-wrapped {border: 1px dashed gray;margin: 0 0.4em 0.5em 0.4em;box-sizing: border-box;padding-bottom: 0.4em;background-color: white;}#sk-container-id-5 div.sk-label label {font-family: monospace;font-weight: bold;display: inline-block;line-height: 1.2em;}#sk-container-id-5 div.sk-label-container {text-align: center;}#sk-container-id-5 div.sk-container {/* jupyter's `normalize.less` sets `[hidden] { display: none; }` but bootstrap.min.css set `[hidden] { display: none !important; }` so we also need the `!important` here to be able to override the default hidden behavior on the sphinx rendered scikit-learn.org. See: https://github.com/scikit-learn/scikit-learn/issues/21755 */display: inline-block !important;position: relative;}#sk-container-id-5 div.sk-text-repr-fallback {display: none;}</style><div id=\"sk-container-id-5\" class=\"sk-top-container\"><div class=\"sk-text-repr-fallback\"><pre>MLPClassifier(activation=&#x27;logistic&#x27;, hidden_layer_sizes=[300], max_iter=500)</pre><b>In a Jupyter environment, please rerun this cell to show the HTML representation or trust the notebook. <br />On GitHub, the HTML representation is unable to render, please try loading this page with nbviewer.org.</b></div><div class=\"sk-container\" hidden><div class=\"sk-item\"><div class=\"sk-estimator sk-toggleable\"><input class=\"sk-toggleable__control sk-hidden--visually\" id=\"sk-estimator-id-5\" type=\"checkbox\" checked><label for=\"sk-estimator-id-5\" class=\"sk-toggleable__label sk-toggleable__label-arrow\">MLPClassifier</label><div class=\"sk-toggleable__content\"><pre>MLPClassifier(activation=&#x27;logistic&#x27;, hidden_layer_sizes=[300], max_iter=500)</pre></div></div></div></div></div>"
      ],
      "text/plain": [
       "MLPClassifier(activation='logistic', hidden_layer_sizes=[300], max_iter=500)"
      ]
     },
     "execution_count": 33,
     "metadata": {},
     "output_type": "execute_result"
    }
   ],
   "source": [
    "# Realizar la búsqueda aleatoria de hiperparámetros\n",
    "mlp_model_search = RandomizedSearchCV(\n",
    "    mlp_model,\n",
    "    param_distributions=mlp_parameters,\n",
    "    n_iter=10,  # Número de combinaciones de hiperparámetros a probar\n",
    "    cv=5,  # Número de divisiones para la validación cruzada\n",
    "    random_state=42,\n",
    "    n_jobs=-1,\n",
    "    verbose=2\n",
    ")\n",
    "mlp_model_search.fit(x_train, y_train)\n",
    "\n",
    "# Crear un nuevo clasificador LogisticRegression con los mejores hiperparámetros\n",
    "mlp_model = MLPClassifier(**mlp_model_search.best_params_)\n",
    "\n",
    "# Entrenar el modelo con los datos de entrenamiento\n",
    "mlp_model.fit(x_train, y_train)"
   ]
  },
  {
   "cell_type": "code",
   "execution_count": 34,
   "metadata": {
    "colab": {
     "base_uri": "https://localhost:8080/"
    },
    "id": "YAY0xn3pDsBv",
    "outputId": "7b7a42fb-1d4b-4a98-8ba0-6ad3f787606b"
   },
   "outputs": [
    {
     "data": {
      "image/png": "[encoded data removed]",
      "text/plain": [
       "<Figure size 640x480 with 1 Axes>"
      ]
     },
     "metadata": {},
     "output_type": "display_data"
    }
   ],
   "source": [
    "# Cálculo del AUC y gráfica de la Curva ROC\n",
    "plot_roc_curve(mlp_model, x_test, y_test)"
   ]
  },
  {
   "cell_type": "code",
   "execution_count": 35,
   "metadata": {
    "colab": {
     "base_uri": "https://localhost:8080/",
     "height": 472
    },
    "id": "UXqr-Z_eEEv_",
    "outputId": "51b5a9ee-18c5-466c-d0c2-3f6c132b3a24"
   },
   "outputs": [
    {
     "name": "stdout",
     "output_type": "stream",
     "text": [
      "              precision    recall  f1-score   support\n",
      "\n",
      "           0       0.72      0.70      0.71      1654\n",
      "           1       0.77      0.79      0.78      2129\n",
      "\n",
      "    accuracy                           0.75      3783\n",
      "   macro avg       0.75      0.74      0.74      3783\n",
      "weighted avg       0.75      0.75      0.75      3783\n",
      "\n"
     ]
    }
   ],
   "source": [
    "# Evaluar el modelo con los datos de prueba\n",
    "y_pred = mlp_model.predict(x_test)\n",
    "\n",
    "# Imprimir informe de clasificación\n",
    "print(classification_report(y_test, y_pred))"
   ]
  },
  {
   "cell_type": "markdown",
   "metadata": {
    "id": "z8jedzm6drTW"
   },
   "source": [
    "## Stacking"
   ]
  },
  {
   "cell_type": "code",
   "execution_count": 36,
   "metadata": {
    "colab": {
     "base_uri": "https://localhost:8080/",
     "height": 200
    },
    "id": "KaHoMxdNC63A",
    "outputId": "74080253-d92a-4785-ef79-8dd8e18cb769"
   },
   "outputs": [
    {
     "name": "stderr",
     "output_type": "stream",
     "text": [
      "/home/echo/dev/in-vehicle-coupon-recommendation/.venv/lib/python3.11/site-packages/sklearn/neural_network/_multilayer_perceptron.py:686: ConvergenceWarning: Stochastic Optimizer: Maximum iterations (500) reached and the optimization hasn't converged yet.\n",
      "  warnings.warn(\n"
     ]
    },
    {
     "name": "stdout",
     "output_type": "stream",
     "text": [
      "[CV] END max_depth=300, max_features=sqrt, n_estimators=2000; total time=  19.4s\n",
      "[CV] END ...................C=1, gamma=scale, kernel=sigmoid; total time=  13.3s\n",
      "[CV] END ....................C=1, gamma=auto, kernel=sigmoid; total time=  10.7s\n",
      "[CV] END .....................C=1, gamma=auto, kernel=linear; total time=   9.1s\n",
      "[CV] END .....................C=0.1, gamma=scale, kernel=rbf; total time=   6.4s\n",
      "[CV] END ...................C=100, gamma=auto, kernel=linear; total time= 2.3min\n",
      "[CV] END ......................max_depth=1, n_estimators=500; total time=   2.5s\n",
      "[CV] END .....................max_depth=50, n_estimators=500; total time=  29.3s\n",
      "[CV] END ....................max_depth=10, n_estimators=2000; total time= 1.2min\n",
      "[CV] END activation=logistic, hidden_layer_sizes=[500], max_iter=700; total time= 2.7min\n",
      "[CV] END activation=relu, hidden_layer_sizes=[100], max_iter=700; total time=  24.7s\n",
      "[CV] END activation=identity, hidden_layer_sizes=[100], max_iter=500; total time=   1.9s\n",
      "[CV] END activation=identity, hidden_layer_sizes=[100], max_iter=500; total time=   1.6s\n",
      "[CV] END ..max_depth=50, max_features=log2, n_estimators=500; total time=   4.2s\n",
      "[CV] END max_depth=200, max_features=sqrt, n_estimators=1000; total time=   7.8s\n",
      "[CV] END .......................C=10, gamma=auto, kernel=rbf; total time=  11.8s\n",
      "[CV] END ..................C=100, gamma=scale, kernel=linear; total time= 2.5min\n",
      "[CV] END ......................max_depth=1, n_estimators=100; total time=   0.6s\n",
      "[CV] END ....................max_depth=50, n_estimators=1000; total time=  50.8s\n",
      "[CV] END .....................max_depth=10, n_estimators=500; total time=  21.1s\n",
      "[CV] END ....................max_depth=50, n_estimators=2000; total time= 1.1min\n",
      "[CV] END activation=logistic, hidden_layer_sizes=[500], max_iter=700; total time= 2.6min\n",
      "[CV] END activation=relu, hidden_layer_sizes=[100], max_iter=700; total time=  27.4s\n",
      "[CV] END activation=identity, hidden_layer_sizes=[100], max_iter=500; total time=   1.3s\n",
      "[CV] END activation=identity, hidden_layer_sizes=[100], max_iter=500; total time=   1.3s\n",
      "[CV] END activation=identity, hidden_layer_sizes=[100], max_iter=500; total time=   1.2s\n",
      "[CV] END max_depth=250, max_features=log2, n_estimators=1000; total time=   8.8s\n",
      "[CV] END max_depth=150, max_features=sqrt, n_estimators=2000; total time=  17.1s\n",
      "[CV] END .......................C=10, gamma=auto, kernel=rbf; total time=  12.1s\n",
      "[CV] END ..................C=100, gamma=scale, kernel=linear; total time= 2.8min\n",
      "[CV] END ......................max_depth=1, n_estimators=500; total time=   2.5s\n",
      "[CV] END ....................max_depth=50, n_estimators=1000; total time=  50.7s\n",
      "[CV] END .....................max_depth=10, n_estimators=500; total time=  21.4s\n",
      "[CV] END activation=relu, hidden_layer_sizes=[300], max_iter=700; total time= 1.2min\n",
      "[CV] END activation=logistic, hidden_layer_sizes=[100], max_iter=500; total time=  28.6s\n",
      "[CV] END activation=logistic, hidden_layer_sizes=[100], max_iter=500; total time=  31.5s\n",
      "[CV] END activation=relu, hidden_layer_sizes=[500], max_iter=500; total time= 1.5min\n",
      "[CV] END ..................C=0.1, gamma=scale, kernel=linear; total time=  11.2s\n",
      "[CV] END ..................C=100, gamma=scale, kernel=linear; total time= 2.4min\n",
      "[CV] END ......................max_depth=1, n_estimators=100; total time=   0.5s\n",
      "[CV] END ......................max_depth=5, n_estimators=500; total time=   9.8s\n",
      "[CV] END ....................max_depth=10, n_estimators=2000; total time= 1.3min\n",
      "[CV] END activation=relu, hidden_layer_sizes=[300], max_iter=700; total time=  59.3s\n",
      "[CV] END activation=tanh, hidden_layer_sizes=[100], max_iter=700; total time=  47.4s\n",
      "[CV] END activation=logistic, hidden_layer_sizes=[100], max_iter=500; total time=  30.2s\n",
      "[CV] END activation=relu, hidden_layer_sizes=[500], max_iter=500; total time= 1.5min\n",
      "[CV] END .......................C=10, gamma=auto, kernel=rbf; total time=  11.1s\n",
      "[CV] END ..................C=100, gamma=scale, kernel=linear; total time= 2.7min\n",
      "[CV] END ......................max_depth=1, n_estimators=500; total time=   2.4s\n",
      "[CV] END ....................max_depth=50, n_estimators=1000; total time=  51.4s\n",
      "[CV] END .....................max_depth=1, n_estimators=1000; total time=   4.7s\n",
      "[CV] END .....................max_depth=1, n_estimators=1000; total time=   4.8s\n",
      "[CV] END .....................max_depth=1, n_estimators=1000; total time=   4.8s\n",
      "[CV] END ....................max_depth=50, n_estimators=2000; total time= 1.1min\n",
      "[CV] END activation=logistic, hidden_layer_sizes=[500], max_iter=700; total time= 2.5min\n",
      "[CV] END activation=relu, hidden_layer_sizes=[500], max_iter=500; total time= 1.3min\n",
      "[CV] END max_depth=250, max_features=log2, n_estimators=1000; total time=   8.8s\n",
      "[CV] END max_depth=150, max_features=sqrt, n_estimators=2000; total time=  16.8s\n",
      "[CV] END .......................C=10, gamma=auto, kernel=rbf; total time=  11.6s\n",
      "[CV] END ..................C=0.1, gamma=scale, kernel=linear; total time=   9.6s\n",
      "[CV] END .....................C=1, gamma=auto, kernel=linear; total time=  10.8s\n",
      "[CV] END ......................C=10, gamma=scale, kernel=rbf; total time=   7.3s\n",
      "[CV] END ...................C=100, gamma=auto, kernel=linear; total time= 2.5min\n",
      "[CV] END ......................max_depth=5, n_estimators=500; total time=   9.7s\n",
      "[CV] END .....................max_depth=50, n_estimators=500; total time=  29.4s\n",
      "[CV] END .....................max_depth=10, n_estimators=100; total time=   4.6s\n",
      "[CV] END .....................max_depth=10, n_estimators=100; total time=   4.6s\n",
      "[CV] END .....................max_depth=10, n_estimators=100; total time=   4.6s\n",
      "[CV] END .....................max_depth=10, n_estimators=500; total time=  21.0s\n",
      "[CV] END activation=relu, hidden_layer_sizes=[300], max_iter=700; total time= 1.1min\n",
      "[CV] END activation=tanh, hidden_layer_sizes=[100], max_iter=700; total time=  52.2s\n",
      "[CV] END activation=logistic, hidden_layer_sizes=[100], max_iter=700; total time=  46.1s\n",
      "[CV] END activation=logistic, hidden_layer_sizes=[300], max_iter=500; total time= 1.1min\n",
      "[CV] END max_depth=250, max_features=log2, n_estimators=1000; total time=   8.1s\n",
      "[CV] END ..max_depth=50, max_features=log2, n_estimators=500; total time=   4.0s\n",
      "[CV] END max_depth=200, max_features=sqrt, n_estimators=1000; total time=   7.2s\n",
      "[CV] END ...................C=1, gamma=scale, kernel=sigmoid; total time=  13.1s\n",
      "[CV] END ....................C=1, gamma=auto, kernel=sigmoid; total time=  11.2s\n",
      "[CV] END ......................C=10, gamma=scale, kernel=rbf; total time=   8.2s\n",
      "[CV] END ......................C=10, gamma=scale, kernel=rbf; total time=   6.5s\n",
      "[CV] END .....................C=0.1, gamma=scale, kernel=rbf; total time=   5.8s\n",
      "[CV] END ..................C=0.1, gamma=auto, kernel=sigmoid; total time=   3.3s\n",
      "[CV] END ..................C=0.1, gamma=auto, kernel=sigmoid; total time=   3.1s\n",
      "[CV] END ......................max_depth=1, n_estimators=100; total time=   0.6s\n",
      "[CV] END ......................max_depth=5, n_estimators=500; total time=   9.9s\n",
      "[CV] END ....................max_depth=10, n_estimators=2000; total time= 1.3min\n",
      "[CV] END activation=relu, hidden_layer_sizes=[300], max_iter=700; total time= 1.6min\n",
      "[CV] END activation=logistic, hidden_layer_sizes=[100], max_iter=500; total time=  31.6s\n",
      "[CV] END activation=logistic, hidden_layer_sizes=[100], max_iter=700; total time=  49.1s\n",
      "[CV] END activation=logistic, hidden_layer_sizes=[300], max_iter=500; total time=  57.9s\n",
      "[CV] END max_depth=300, max_features=sqrt, n_estimators=2000; total time=  19.3s\n",
      "[CV] END ..max_depth=50, max_features=log2, n_estimators=500; total time=   4.1s\n",
      "[CV] END ...................C=1, gamma=scale, kernel=sigmoid; total time=   9.4s\n",
      "[CV] END ..................C=0.1, gamma=scale, kernel=linear; total time=  10.6s\n",
      "[CV] END ....................C=1, gamma=auto, kernel=sigmoid; total time=   8.4s\n",
      "[CV] END ......................C=10, gamma=scale, kernel=rbf; total time=   5.7s\n",
      "[CV] END .....................C=0.1, gamma=scale, kernel=rbf; total time=   6.6s\n",
      "[CV] END ...................C=100, gamma=auto, kernel=linear; total time= 2.1min\n",
      "[CV] END ......................max_depth=1, n_estimators=500; total time=   2.5s\n",
      "[CV] END ....................max_depth=50, n_estimators=1000; total time=  51.6s\n",
      "[CV] END .....................max_depth=1, n_estimators=1000; total time=   4.6s\n",
      "[CV] END .....................max_depth=1, n_estimators=1000; total time=   4.6s\n",
      "[CV] END ....................max_depth=50, n_estimators=2000; total time= 1.1min\n",
      "[CV] END activation=logistic, hidden_layer_sizes=[500], max_iter=700; total time= 2.5min\n",
      "[CV] END activation=relu, hidden_layer_sizes=[500], max_iter=500; total time= 1.4min\n",
      "[CV] END ..................C=0.1, gamma=scale, kernel=linear; total time=  11.0s\n",
      "[CV] END ..................C=100, gamma=scale, kernel=linear; total time= 2.3min\n",
      "[CV] END ......................max_depth=1, n_estimators=100; total time=   0.6s\n",
      "[CV] END ......................max_depth=5, n_estimators=500; total time=   9.7s\n",
      "[CV] END .....................max_depth=50, n_estimators=500; total time=  29.3s\n",
      "[CV] END .....................max_depth=10, n_estimators=100; total time=   4.6s\n",
      "[CV] END .....................max_depth=10, n_estimators=100; total time=   4.5s\n",
      "[CV] END .....................max_depth=10, n_estimators=500; total time=  21.1s\n",
      "[CV] END ....................max_depth=50, n_estimators=2000; total time= 1.2min\n",
      "[CV] END activation=relu, hidden_layer_sizes=[100], max_iter=500; total time=  19.3s\n",
      "[CV] END activation=relu, hidden_layer_sizes=[100], max_iter=500; total time=  23.6s\n",
      "[CV] END activation=tanh, hidden_layer_sizes=[100], max_iter=700; total time=  46.1s\n",
      "[CV] END activation=logistic, hidden_layer_sizes=[100], max_iter=500; total time=  28.7s\n",
      "[CV] END activation=logistic, hidden_layer_sizes=[100], max_iter=700; total time=  45.8s\n",
      "[CV] END activation=relu, hidden_layer_sizes=[100], max_iter=700; total time=  12.4s\n",
      "[CV] END activation=logistic, hidden_layer_sizes=[300], max_iter=500; total time=  58.0s\n",
      "[CV] END max_depth=300, max_features=sqrt, n_estimators=2000; total time=  19.5s\n",
      "[CV] END max_depth=200, max_features=sqrt, n_estimators=1000; total time=   9.0s\n",
      "[CV] END ...................C=1, gamma=scale, kernel=sigmoid; total time=  12.7s\n",
      "[CV] END ....................C=1, gamma=auto, kernel=sigmoid; total time=  11.0s\n",
      "[CV] END .....................C=1, gamma=auto, kernel=linear; total time=   9.5s\n",
      "[CV] END .....................C=0.1, gamma=scale, kernel=rbf; total time=   7.9s\n",
      "[CV] END ...................C=100, gamma=auto, kernel=linear; total time= 2.6min\n",
      "[CV] END ......................max_depth=5, n_estimators=500; total time=   9.6s\n",
      "[CV] END .....................max_depth=50, n_estimators=500; total time=  29.0s\n",
      "[CV] END ....................max_depth=10, n_estimators=2000; total time= 1.2min\n",
      "[CV] END activation=logistic, hidden_layer_sizes=[500], max_iter=700; total time= 2.7min\n",
      "[CV] END activation=relu, hidden_layer_sizes=[100], max_iter=700; total time=  13.6s\n",
      "[CV] END activation=logistic, hidden_layer_sizes=[300], max_iter=500; total time= 1.0min\n",
      "[CV] END max_depth=250, max_features=log2, n_estimators=1000; total time=   8.4s\n",
      "[CV] END ..max_depth=50, max_features=log2, n_estimators=500; total time=   4.0s\n",
      "[CV] END max_depth=200, max_features=sqrt, n_estimators=1000; total time=   8.7s\n",
      "[CV] END .......................C=10, gamma=auto, kernel=rbf; total time=  12.2s\n",
      "[CV] END ....................C=1, gamma=auto, kernel=sigmoid; total time=  11.3s\n",
      "[CV] END .....................C=1, gamma=auto, kernel=linear; total time=   9.8s\n",
      "[CV] END .....................C=0.1, gamma=scale, kernel=rbf; total time=   8.0s\n",
      "[CV] END ..................C=0.1, gamma=auto, kernel=sigmoid; total time=   4.4s\n",
      "[CV] END ..................C=0.1, gamma=auto, kernel=sigmoid; total time=   3.5s\n",
      "[CV] END ..................C=0.1, gamma=auto, kernel=sigmoid; total time=   3.0s\n",
      "[CV] END ......................max_depth=1, n_estimators=100; total time=   0.6s\n",
      "[CV] END ....................max_depth=50, n_estimators=1000; total time=  51.6s\n",
      "[CV] END .....................max_depth=10, n_estimators=500; total time=  21.0s\n",
      "[CV] END ....................max_depth=50, n_estimators=2000; total time= 1.1min\n",
      "[CV] END activation=relu, hidden_layer_sizes=[100], max_iter=500; total time=  23.3s\n",
      "[CV] END activation=relu, hidden_layer_sizes=[100], max_iter=500; total time=  18.4s\n",
      "[CV] END activation=relu, hidden_layer_sizes=[100], max_iter=500; total time=  25.9s\n",
      "[CV] END activation=tanh, hidden_layer_sizes=[100], max_iter=700; total time=  44.1s\n",
      "[CV] END activation=logistic, hidden_layer_sizes=[100], max_iter=700; total time=  45.7s\n",
      "[CV] END activation=relu, hidden_layer_sizes=[100], max_iter=700; total time=  18.5s\n",
      "[CV] END activation=logistic, hidden_layer_sizes=[300], max_iter=500; total time= 1.0min\n",
      "[CV] END .max_depth=200, max_features=sqrt, n_estimators=500; total time=   5.1s\n",
      "[CV] END .max_depth=100, max_features=log2, n_estimators=500; total time=   4.3s\n",
      "[CV] END .max_depth=100, max_features=log2, n_estimators=500; total time=   4.1s\n",
      "[CV] END ..max_depth=50, max_features=log2, n_estimators=500; total time=   4.0s\n",
      "[CV] END max_depth=200, max_features=sqrt, n_estimators=1000; total time=   7.4s\n",
      "[CV] END ...................C=1, gamma=scale, kernel=sigmoid; total time=  10.1s\n",
      "[CV] END ..................C=0.1, gamma=scale, kernel=linear; total time=  10.5s\n",
      "[CV] END .....................C=1, gamma=auto, kernel=linear; total time=  11.8s\n",
      "[CV] END ......................C=10, gamma=scale, kernel=rbf; total time=   7.8s\n",
      "[CV] END ...................C=100, gamma=auto, kernel=linear; total time= 2.2min\n",
      "[CV] END ......................max_depth=1, n_estimators=500; total time=   2.6s\n",
      "[CV] END .....................max_depth=50, n_estimators=500; total time=  29.1s\n",
      "[CV] END ....................max_depth=10, n_estimators=2000; total time= 1.2min\n",
      "[CV] END activation=relu, hidden_layer_sizes=[300], max_iter=700; total time= 1.2min\n",
      "[CV] END activation=tanh, hidden_layer_sizes=[100], max_iter=700; total time=  39.5s\n",
      "[CV] END activation=logistic, hidden_layer_sizes=[100], max_iter=700; total time=  45.1s\n",
      "[CV] END activation=relu, hidden_layer_sizes=[500], max_iter=500; total time= 1.4min\n"
     ]
    },
    {
     "name": "stderr",
     "output_type": "stream",
     "text": [
      "/home/echo/dev/in-vehicle-coupon-recommendation/.venv/lib/python3.11/site-packages/sklearn/neural_network/_multilayer_perceptron.py:686: ConvergenceWarning: Stochastic Optimizer: Maximum iterations (500) reached and the optimization hasn't converged yet.\n",
      "  warnings.warn(\n",
      "/home/echo/dev/in-vehicle-coupon-recommendation/.venv/lib/python3.11/site-packages/sklearn/neural_network/_multilayer_perceptron.py:686: ConvergenceWarning: Stochastic Optimizer: Maximum iterations (500) reached and the optimization hasn't converged yet.\n",
      "  warnings.warn(\n",
      "/home/echo/dev/in-vehicle-coupon-recommendation/.venv/lib/python3.11/site-packages/sklearn/neural_network/_multilayer_perceptron.py:686: ConvergenceWarning: Stochastic Optimizer: Maximum iterations (500) reached and the optimization hasn't converged yet.\n",
      "  warnings.warn(\n",
      "/home/echo/dev/in-vehicle-coupon-recommendation/.venv/lib/python3.11/site-packages/sklearn/neural_network/_multilayer_perceptron.py:686: ConvergenceWarning: Stochastic Optimizer: Maximum iterations (500) reached and the optimization hasn't converged yet.\n",
      "  warnings.warn(\n",
      "/home/echo/dev/in-vehicle-coupon-recommendation/.venv/lib/python3.11/site-packages/sklearn/neural_network/_multilayer_perceptron.py:686: ConvergenceWarning: Stochastic Optimizer: Maximum iterations (500) reached and the optimization hasn't converged yet.\n",
      "  warnings.warn(\n"
     ]
    },
    {
     "data": {
      "text/html": [
       "<style>#sk-container-id-6 {color: black;background-color: white;}#sk-container-id-6 pre{padding: 0;}#sk-container-id-6 div.sk-toggleable {background-color: white;}#sk-container-id-6 label.sk-toggleable__label {cursor: pointer;display: block;width: 100%;margin-bottom: 0;padding: 0.3em;box-sizing: border-box;text-align: center;}#sk-container-id-6 label.sk-toggleable__label-arrow:before {content: \"▸\";float: left;margin-right: 0.25em;color: #696969;}#sk-container-id-6 label.sk-toggleable__label-arrow:hover:before {color: black;}#sk-container-id-6 div.sk-estimator:hover label.sk-toggleable__label-arrow:before {color: black;}#sk-container-id-6 div.sk-toggleable__content {max-height: 0;max-width: 0;overflow: hidden;text-align: left;background-color: #f0f8ff;}#sk-container-id-6 div.sk-toggleable__content pre {margin: 0.2em;color: black;border-radius: 0.25em;background-color: #f0f8ff;}#sk-container-id-6 input.sk-toggleable__control:checked~div.sk-toggleable__content {max-height: 200px;max-width: 100%;overflow: auto;}#sk-container-id-6 input.sk-toggleable__control:checked~label.sk-toggleable__label-arrow:before {content: \"▾\";}#sk-container-id-6 div.sk-estimator input.sk-toggleable__control:checked~label.sk-toggleable__label {background-color: #d4ebff;}#sk-container-id-6 div.sk-label input.sk-toggleable__control:checked~label.sk-toggleable__label {background-color: #d4ebff;}#sk-container-id-6 input.sk-hidden--visually {border: 0;clip: rect(1px 1px 1px 1px);clip: rect(1px, 1px, 1px, 1px);height: 1px;margin: -1px;overflow: hidden;padding: 0;position: absolute;width: 1px;}#sk-container-id-6 div.sk-estimator {font-family: monospace;background-color: #f0f8ff;border: 1px dotted black;border-radius: 0.25em;box-sizing: border-box;margin-bottom: 0.5em;}#sk-container-id-6 div.sk-estimator:hover {background-color: #d4ebff;}#sk-container-id-6 div.sk-parallel-item::after {content: \"\";width: 100%;border-bottom: 1px solid gray;flex-grow: 1;}#sk-container-id-6 div.sk-label:hover label.sk-toggleable__label {background-color: #d4ebff;}#sk-container-id-6 div.sk-serial::before {content: \"\";position: absolute;border-left: 1px solid gray;box-sizing: border-box;top: 0;bottom: 0;left: 50%;z-index: 0;}#sk-container-id-6 div.sk-serial {display: flex;flex-direction: column;align-items: center;background-color: white;padding-right: 0.2em;padding-left: 0.2em;position: relative;}#sk-container-id-6 div.sk-item {position: relative;z-index: 1;}#sk-container-id-6 div.sk-parallel {display: flex;align-items: stretch;justify-content: center;background-color: white;position: relative;}#sk-container-id-6 div.sk-item::before, #sk-container-id-6 div.sk-parallel-item::before {content: \"\";position: absolute;border-left: 1px solid gray;box-sizing: border-box;top: 0;bottom: 0;left: 50%;z-index: -1;}#sk-container-id-6 div.sk-parallel-item {display: flex;flex-direction: column;z-index: 1;position: relative;background-color: white;}#sk-container-id-6 div.sk-parallel-item:first-child::after {align-self: flex-end;width: 50%;}#sk-container-id-6 div.sk-parallel-item:last-child::after {align-self: flex-start;width: 50%;}#sk-container-id-6 div.sk-parallel-item:only-child::after {width: 0;}#sk-container-id-6 div.sk-dashed-wrapped {border: 1px dashed gray;margin: 0 0.4em 0.5em 0.4em;box-sizing: border-box;padding-bottom: 0.4em;background-color: white;}#sk-container-id-6 div.sk-label label {font-family: monospace;font-weight: bold;display: inline-block;line-height: 1.2em;}#sk-container-id-6 div.sk-label-container {text-align: center;}#sk-container-id-6 div.sk-container {/* jupyter's `normalize.less` sets `[hidden] { display: none; }` but bootstrap.min.css set `[hidden] { display: none !important; }` so we also need the `!important` here to be able to override the default hidden behavior on the sphinx rendered scikit-learn.org. See: https://github.com/scikit-learn/scikit-learn/issues/21755 */display: inline-block !important;position: relative;}#sk-container-id-6 div.sk-text-repr-fallback {display: none;}</style><div id=\"sk-container-id-6\" class=\"sk-top-container\"><div class=\"sk-text-repr-fallback\"><pre>StackingClassifier(estimators=[(&#x27;RandomForest&#x27;,\n",
       "                                RandomForestClassifier(max_depth=300,\n",
       "                                                       n_estimators=2000)),\n",
       "                               (&#x27;SVM&#x27;,\n",
       "                                SVC(C=10, gamma=&#x27;auto&#x27;, probability=True)),\n",
       "                               (&#x27;LogisticRegression&#x27;,\n",
       "                                LogisticRegression(C=10, max_iter=1000)),\n",
       "                               (&#x27;XGBoost&#x27;,\n",
       "                                XGBClassifier(base_score=None, booster=None,\n",
       "                                              callbacks=None,\n",
       "                                              colsample_bylevel=None,\n",
       "                                              colsample_bynode=None,\n",
       "                                              colsample_bytree=None,...\n",
       "                                              max_cat_to_onehot=None,\n",
       "                                              max_delta_step=None, max_depth=50,\n",
       "                                              max_leaves=None,\n",
       "                                              min_child_weight=None,\n",
       "                                              missing=nan,\n",
       "                                              monotone_constraints=None,\n",
       "                                              n_estimators=500, n_jobs=None,\n",
       "                                              num_parallel_tree=None,\n",
       "                                              predictor=None, random_state=None, ...)),\n",
       "                               (&#x27;MLP&#x27;,\n",
       "                                MLPClassifier(activation=&#x27;logistic&#x27;,\n",
       "                                              hidden_layer_sizes=[300],\n",
       "                                              max_iter=500))],\n",
       "                   final_estimator=LogisticRegression(max_iter=1000))</pre><b>In a Jupyter environment, please rerun this cell to show the HTML representation or trust the notebook. <br />On GitHub, the HTML representation is unable to render, please try loading this page with nbviewer.org.</b></div><div class=\"sk-container\" hidden><div class=\"sk-item sk-dashed-wrapped\"><div class=\"sk-label-container\"><div class=\"sk-label sk-toggleable\"><input class=\"sk-toggleable__control sk-hidden--visually\" id=\"sk-estimator-id-6\" type=\"checkbox\" ><label for=\"sk-estimator-id-6\" class=\"sk-toggleable__label sk-toggleable__label-arrow\">StackingClassifier</label><div class=\"sk-toggleable__content\"><pre>StackingClassifier(estimators=[(&#x27;RandomForest&#x27;,\n",
       "                                RandomForestClassifier(max_depth=300,\n",
       "                                                       n_estimators=2000)),\n",
       "                               (&#x27;SVM&#x27;,\n",
       "                                SVC(C=10, gamma=&#x27;auto&#x27;, probability=True)),\n",
       "                               (&#x27;LogisticRegression&#x27;,\n",
       "                                LogisticRegression(C=10, max_iter=1000)),\n",
       "                               (&#x27;XGBoost&#x27;,\n",
       "                                XGBClassifier(base_score=None, booster=None,\n",
       "                                              callbacks=None,\n",
       "                                              colsample_bylevel=None,\n",
       "                                              colsample_bynode=None,\n",
       "                                              colsample_bytree=None,...\n",
       "                                              max_cat_to_onehot=None,\n",
       "                                              max_delta_step=None, max_depth=50,\n",
       "                                              max_leaves=None,\n",
       "                                              min_child_weight=None,\n",
       "                                              missing=nan,\n",
       "                                              monotone_constraints=None,\n",
       "                                              n_estimators=500, n_jobs=None,\n",
       "                                              num_parallel_tree=None,\n",
       "                                              predictor=None, random_state=None, ...)),\n",
       "                               (&#x27;MLP&#x27;,\n",
       "                                MLPClassifier(activation=&#x27;logistic&#x27;,\n",
       "                                              hidden_layer_sizes=[300],\n",
       "                                              max_iter=500))],\n",
       "                   final_estimator=LogisticRegression(max_iter=1000))</pre></div></div></div><div class=\"sk-serial\"><div class=\"sk-item\"><div class=\"sk-parallel\"><div class=\"sk-parallel-item\"><div class=\"sk-item\"><div class=\"sk-label-container\"><div class=\"sk-label sk-toggleable\"><label>RandomForest</label></div></div><div class=\"sk-serial\"><div class=\"sk-item\"><div class=\"sk-estimator sk-toggleable\"><input class=\"sk-toggleable__control sk-hidden--visually\" id=\"sk-estimator-id-7\" type=\"checkbox\" ><label for=\"sk-estimator-id-7\" class=\"sk-toggleable__label sk-toggleable__label-arrow\">RandomForestClassifier</label><div class=\"sk-toggleable__content\"><pre>RandomForestClassifier(max_depth=300, n_estimators=2000)</pre></div></div></div></div></div></div><div class=\"sk-parallel-item\"><div class=\"sk-item\"><div class=\"sk-label-container\"><div class=\"sk-label sk-toggleable\"><label>SVM</label></div></div><div class=\"sk-serial\"><div class=\"sk-item\"><div class=\"sk-estimator sk-toggleable\"><input class=\"sk-toggleable__control sk-hidden--visually\" id=\"sk-estimator-id-8\" type=\"checkbox\" ><label for=\"sk-estimator-id-8\" class=\"sk-toggleable__label sk-toggleable__label-arrow\">SVC</label><div class=\"sk-toggleable__content\"><pre>SVC(C=10, gamma=&#x27;auto&#x27;, probability=True)</pre></div></div></div></div></div></div><div class=\"sk-parallel-item\"><div class=\"sk-item\"><div class=\"sk-label-container\"><div class=\"sk-label sk-toggleable\"><label>LogisticRegression</label></div></div><div class=\"sk-serial\"><div class=\"sk-item\"><div class=\"sk-estimator sk-toggleable\"><input class=\"sk-toggleable__control sk-hidden--visually\" id=\"sk-estimator-id-9\" type=\"checkbox\" ><label for=\"sk-estimator-id-9\" class=\"sk-toggleable__label sk-toggleable__label-arrow\">LogisticRegression</label><div class=\"sk-toggleable__content\"><pre>LogisticRegression(C=10, max_iter=1000)</pre></div></div></div></div></div></div><div class=\"sk-parallel-item\"><div class=\"sk-item\"><div class=\"sk-label-container\"><div class=\"sk-label sk-toggleable\"><label>XGBoost</label></div></div><div class=\"sk-serial\"><div class=\"sk-item\"><div class=\"sk-estimator sk-toggleable\"><input class=\"sk-toggleable__control sk-hidden--visually\" id=\"sk-estimator-id-10\" type=\"checkbox\" ><label for=\"sk-estimator-id-10\" class=\"sk-toggleable__label sk-toggleable__label-arrow\">XGBClassifier</label><div class=\"sk-toggleable__content\"><pre>XGBClassifier(base_score=None, booster=None, callbacks=None,\n",
       "              colsample_bylevel=None, colsample_bynode=None,\n",
       "              colsample_bytree=None, early_stopping_rounds=None,\n",
       "              enable_categorical=False, eval_metric=None, feature_types=None,\n",
       "              gamma=None, gpu_id=None, grow_policy=None, importance_type=None,\n",
       "              interaction_constraints=None, learning_rate=None, max_bin=None,\n",
       "              max_cat_threshold=None, max_cat_to_onehot=None,\n",
       "              max_delta_step=None, max_depth=50, max_leaves=None,\n",
       "              min_child_weight=None, missing=nan, monotone_constraints=None,\n",
       "              n_estimators=500, n_jobs=None, num_parallel_tree=None,\n",
       "              predictor=None, random_state=None, ...)</pre></div></div></div></div></div></div><div class=\"sk-parallel-item\"><div class=\"sk-item\"><div class=\"sk-label-container\"><div class=\"sk-label sk-toggleable\"><label>MLP</label></div></div><div class=\"sk-serial\"><div class=\"sk-item\"><div class=\"sk-estimator sk-toggleable\"><input class=\"sk-toggleable__control sk-hidden--visually\" id=\"sk-estimator-id-11\" type=\"checkbox\" ><label for=\"sk-estimator-id-11\" class=\"sk-toggleable__label sk-toggleable__label-arrow\">MLPClassifier</label><div class=\"sk-toggleable__content\"><pre>MLPClassifier(activation=&#x27;logistic&#x27;, hidden_layer_sizes=[300], max_iter=500)</pre></div></div></div></div></div></div></div></div><div class=\"sk-item\"><div class=\"sk-parallel\"><div class=\"sk-parallel-item\"><div class=\"sk-item\"><div class=\"sk-label-container\"><div class=\"sk-label sk-toggleable\"><label>final_estimator</label></div></div><div class=\"sk-serial\"><div class=\"sk-item\"><div class=\"sk-estimator sk-toggleable\"><input class=\"sk-toggleable__control sk-hidden--visually\" id=\"sk-estimator-id-12\" type=\"checkbox\" ><label for=\"sk-estimator-id-12\" class=\"sk-toggleable__label sk-toggleable__label-arrow\">LogisticRegression</label><div class=\"sk-toggleable__content\"><pre>LogisticRegression(max_iter=1000)</pre></div></div></div></div></div></div></div></div></div></div></div></div>"
      ],
      "text/plain": [
       "StackingClassifier(estimators=[('RandomForest',\n",
       "                                RandomForestClassifier(max_depth=300,\n",
       "                                                       n_estimators=2000)),\n",
       "                               ('SVM',\n",
       "                                SVC(C=10, gamma='auto', probability=True)),\n",
       "                               ('LogisticRegression',\n",
       "                                LogisticRegression(C=10, max_iter=1000)),\n",
       "                               ('XGBoost',\n",
       "                                XGBClassifier(base_score=None, booster=None,\n",
       "                                              callbacks=None,\n",
       "                                              colsample_bylevel=None,\n",
       "                                              colsample_bynode=None,\n",
       "                                              colsample_bytree=None,...\n",
       "                                              max_cat_to_onehot=None,\n",
       "                                              max_delta_step=None, max_depth=50,\n",
       "                                              max_leaves=None,\n",
       "                                              min_child_weight=None,\n",
       "                                              missing=nan,\n",
       "                                              monotone_constraints=None,\n",
       "                                              n_estimators=500, n_jobs=None,\n",
       "                                              num_parallel_tree=None,\n",
       "                                              predictor=None, random_state=None, ...)),\n",
       "                               ('MLP',\n",
       "                                MLPClassifier(activation='logistic',\n",
       "                                              hidden_layer_sizes=[300],\n",
       "                                              max_iter=500))],\n",
       "                   final_estimator=LogisticRegression(max_iter=1000))"
      ]
     },
     "execution_count": 36,
     "metadata": {},
     "output_type": "execute_result"
    }
   ],
   "source": [
    "# Utilizamos nuestros clasificadores optimizados\n",
    "estimators = [\n",
    "    (\"RandomForest\", rf_model),\n",
    "    (\"SVM\", svm_model),\n",
    "    (\"LogisticRegression\", lr_model),\n",
    "    (\"XGBoost\", xgb_model),\n",
    "    (\"MLP\", mlp_model)\n",
    "]\n",
    "\n",
    "# Creamos el modelo ensamble y realizamos el entrenamiento \n",
    "stacking_model = StackingClassifier(\n",
    "    estimators=estimators,\n",
    "    final_estimator=LogisticRegression(max_iter=1000))\n",
    "\n",
    "stacking_model.fit(x_train, y_train)"
   ]
  },
  {
   "cell_type": "code",
   "execution_count": 37,
   "metadata": {},
   "outputs": [
    {
     "data": {
      "image/png": "[encoded data removed]",
      "text/plain": [
       "<Figure size 640x480 with 1 Axes>"
      ]
     },
     "metadata": {},
     "output_type": "display_data"
    }
   ],
   "source": [
    "# Cálculo del AUC y gráfica de la Curva ROC\n",
    "plot_roc_curve(stacking_model, x_test, y_test)"
   ]
  },
  {
   "cell_type": "code",
   "execution_count": 38,
   "metadata": {},
   "outputs": [
    {
     "name": "stdout",
     "output_type": "stream",
     "text": [
      "              precision    recall  f1-score   support\n",
      "\n",
      "           0       0.74      0.69      0.71      1654\n",
      "           1       0.77      0.81      0.79      2129\n",
      "\n",
      "    accuracy                           0.76      3783\n",
      "   macro avg       0.75      0.75      0.75      3783\n",
      "weighted avg       0.76      0.76      0.76      3783\n",
      "\n"
     ]
    }
   ],
   "source": [
    "# Evaluar el modelo con los datos de prueba\n",
    "y_pred = stacking_model.predict(x_test)\n",
    "\n",
    "# Imprimir informe de clasificación\n",
    "print(classification_report(y_test, y_pred))"
   ]
  }
 ],
 "metadata": {
  "colab": {
   "provenance": []
  },
  "kernelspec": {
   "display_name": "venv",
   "language": "python",
   "name": "venv"
  },
  "language_info": {
   "codemirror_mode": {
    "name": "ipython",
    "version": 3
   },
   "file_extension": ".py",
   "mimetype": "text/x-python",
   "name": "python",
   "nbconvert_exporter": "python",
   "pygments_lexer": "ipython3",
   "version": "3.11.3"
  }
 },
 "nbformat": 4,
 "nbformat_minor": 4
}
